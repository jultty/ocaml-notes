{
 "cells": [
  {
   "cell_type": "markdown",
   "id": "f1eae45e-3b6f-4f8d-b41b-dd6e7d0072a8",
   "metadata": {},
   "source": [
    "## Installation"
   ]
  },
  {
   "cell_type": "markdown",
   "id": "e4ed01d0-a17b-4632-9afb-e060d42e5856",
   "metadata": {},
   "source": [
    "The official OCaml website has [installation instructions](https://ocaml.org/install) for several different platforms. It mostly relies on [opam](https://opam.ocaml.org/), a package manager for the OCaml ecosystem that can also [manage virtual environments](https://opam.ocaml.org/doc/Usage.html#opam-switch)."
   ]
  },
  {
   "cell_type": "markdown",
   "id": "666c3d32-0983-4f45-adb2-2dd5001142f4",
   "metadata": {},
   "source": [
    "If you just want to run OCaml code inside Jupyter Notebooks, you can get the [ocaml-jupyter kernel](https://github.com/akabe/ocaml-jupyter) to add it to your local Jupyter installation or use the `flake.nix` file in this repository if you have [Nix](https://nixos.org/) installed with flake support. For more on the flake implementation check out [jupyenv](https://github.com/tweag/jupyenv)."
   ]
  },
  {
   "cell_type": "markdown",
   "id": "2c43ae8e-8c87-46dc-a2d4-ec8d2870fac4",
   "metadata": {
    "tags": []
   },
   "source": [
    "## Running OCaml code"
   ]
  },
  {
   "cell_type": "markdown",
   "id": "22522e43-5259-465e-88b5-efc8bab809b3",
   "metadata": {},
   "source": [
    "OCaml files (extension `.ml`), can be compiled to bytecode executables using `ocamlc` or native executables using `ocamlopt`:\n",
    "\n",
    "```sh\n",
    "ocamlc hello.ml -o hello\n",
    "ocamlopt hello -o hello_native\n",
    "```\n",
    "\n",
    "Bytecode executables are more portable across different platforms, while native executables have improved performance at the cost of little portability, longer compile time and increased filesizes."
   ]
  },
  {
   "cell_type": "markdown",
   "id": "bd25f983-038d-4f9b-92e8-e637961502d7",
   "metadata": {},
   "source": [
    "If you want to use a REPL to evaluate code directly as you would do in a shell, you probably want [utop](https://github.com/ocaml-community/utop), which is also available through opam."
   ]
  },
  {
   "cell_type": "markdown",
   "id": "a1793c3d-c32d-4927-a6f1-0e12a5f79db0",
   "metadata": {},
   "source": [
    "One last way of running OCaml code that is worth mentioning is in scripts. You can for instance write a file called `script.ml` with the following shebang:\n",
    "\n",
    "```sh\n",
    "#!/usr/bin/env ocaml\n",
    "\n",
    "let () = print_endline \"Hello, OCaml\"\n",
    "```\n",
    "\n",
    "Supposing you are in a Linux-based system, you could then add execution permissions with `chmod +x script.ml` and you can now run this file with `./script.ml`. In this case, the `.ml` file extension is optional."
   ]
  },
  {
   "cell_type": "markdown",
   "id": "8656e9b4-9be3-47a8-bb2f-b0a78b962028",
   "metadata": {
    "tags": []
   },
   "source": [
    "## Basic syntax"
   ]
  },
  {
   "cell_type": "markdown",
   "id": "88a83c19-3837-44a0-96d6-cfefaab0ad19",
   "metadata": {},
   "source": [
    "### Binding"
   ]
  },
  {
   "cell_type": "markdown",
   "id": "314fa721-c73b-4daf-9e8f-c048b5ee0674",
   "metadata": {},
   "source": [
    "In OCaml, what would usually called variables are actually all constants. \n",
    "\n",
    "The `=` operator can be used for binding a value to an identifier with the `let` keyword, but otherwise it will test for equality rather than reassigning."
   ]
  },
  {
   "cell_type": "code",
   "execution_count": 1,
   "id": "c7d4bfa7-0c39-4115-9730-e4e0d82e4371",
   "metadata": {
    "tags": []
   },
   "outputs": [
    {
     "data": {
      "text/plain": [
       "val u : int = 8\n"
      ]
     },
     "execution_count": 1,
     "metadata": {},
     "output_type": "execute_result"
    },
    {
     "data": {
      "text/plain": [
       "- : bool = false\n"
      ]
     },
     "execution_count": 1,
     "metadata": {},
     "output_type": "execute_result"
    }
   ],
   "source": [
    "let u = 8 ;;\n",
    "\n",
    "u = 9"
   ]
  },
  {
   "cell_type": "markdown",
   "id": "d617918e-0b6f-4f84-bf47-9cf6c87bd80d",
   "metadata": {},
   "source": [
    "If mutation is intended, you can either shadow or use `ref`:"
   ]
  },
  {
   "cell_type": "code",
   "execution_count": 2,
   "id": "be8c5b32-240b-4f8b-bc6e-b41515d35c88",
   "metadata": {
    "tags": []
   },
   "outputs": [
    {
     "data": {
      "text/plain": [
       "val u : int = 7\n"
      ]
     },
     "execution_count": 2,
     "metadata": {},
     "output_type": "execute_result"
    }
   ],
   "source": [
    "let u = 7"
   ]
  },
  {
   "cell_type": "code",
   "execution_count": 3,
   "id": "2320419f-8fc1-411b-a945-c477c81a69c6",
   "metadata": {
    "tags": []
   },
   "outputs": [
    {
     "data": {
      "text/plain": [
       "val r : int ref = {contents = 19}\n"
      ]
     },
     "execution_count": 3,
     "metadata": {},
     "output_type": "execute_result"
    },
    {
     "data": {
      "text/plain": [
       "- : int ref = {contents = 19}\n"
      ]
     },
     "execution_count": 3,
     "metadata": {},
     "output_type": "execute_result"
    }
   ],
   "source": [
    "let r = ref 19 ;;\n",
    "\n",
    "r"
   ]
  },
  {
   "cell_type": "markdown",
   "id": "3aaa8780-2ee1-4147-b769-731791f60cb6",
   "metadata": {},
   "source": [
    "The content of a reference can be dereferrenced with `!`:"
   ]
  },
  {
   "cell_type": "code",
   "execution_count": 4,
   "id": "bd3197cc-9e05-4964-aca4-57c94bbad3e1",
   "metadata": {
    "tags": []
   },
   "outputs": [
    {
     "data": {
      "text/plain": [
       "- : int = 19\n"
      ]
     },
     "execution_count": 4,
     "metadata": {},
     "output_type": "execute_result"
    }
   ],
   "source": [
    "!r"
   ]
  },
  {
   "cell_type": "markdown",
   "id": "16c60173-2b24-44f4-bda0-78e02581aedd",
   "metadata": {},
   "source": [
    "To update a reference, the `:=` operator is used:"
   ]
  },
  {
   "cell_type": "code",
   "execution_count": 5,
   "id": "6b136c9b-60ee-423a-b91e-3a20ff2aa671",
   "metadata": {
    "tags": []
   },
   "outputs": [
    {
     "data": {
      "text/plain": [
       "- : unit = ()\n"
      ]
     },
     "execution_count": 5,
     "metadata": {},
     "output_type": "execute_result"
    },
    {
     "data": {
      "text/plain": [
       "- : int ref = {contents = 20}\n"
      ]
     },
     "execution_count": 5,
     "metadata": {},
     "output_type": "execute_result"
    }
   ],
   "source": [
    "r := !r + 1 ;;\n",
    "\n",
    "r"
   ]
  },
  {
   "cell_type": "markdown",
   "id": "155a41e4-dfa9-47f5-90ae-385ffd60349a",
   "metadata": {},
   "source": [
    "> This returns `()` because changing the content of a reference is a side-effect. (A Tour of OCaml)"
   ]
  },
  {
   "cell_type": "markdown",
   "id": "74a05c50-dc3f-4bec-8d90-cb67d7ffce2e",
   "metadata": {},
   "source": [
    "#### `in`"
   ]
  },
  {
   "cell_type": "markdown",
   "id": "c1feaaa4-5b09-428a-b796-d3c3f821f400",
   "metadata": {},
   "source": [
    "The `in` keyword can be used to use a given assignment only within a limited scope:"
   ]
  },
  {
   "cell_type": "code",
   "execution_count": 6,
   "id": "6da4ebb3-7ec1-473b-9c11-0dc80873aeea",
   "metadata": {
    "tags": []
   },
   "outputs": [
    {
     "data": {
      "text/plain": [
       "- : int = 64\n"
      ]
     },
     "execution_count": 6,
     "metadata": {},
     "output_type": "execute_result"
    },
    {
     "ename": "error",
     "evalue": "compile_error",
     "output_type": "error",
     "traceback": [
      "File \"[6]\", line 3, characters 0-1:\n3 | z\n    ^\nError: Unbound value z\n"
     ]
    }
   ],
   "source": [
    "let z = 4 in z * z * z ;;\n",
    "\n",
    "z"
   ]
  },
  {
   "cell_type": "markdown",
   "id": "29ca79ff-2e7f-42f0-8ec3-74dd51c53e97",
   "metadata": {},
   "source": [
    "Now for a more complicated example:"
   ]
  },
  {
   "cell_type": "code",
   "execution_count": 7,
   "id": "eb898538-4814-43bd-bc5b-39145284c926",
   "metadata": {
    "tags": []
   },
   "outputs": [
    {
     "data": {
      "text/plain": [
       "- : int = 250500\n"
      ]
     },
     "execution_count": 7,
     "metadata": {},
     "output_type": "execute_result"
    }
   ],
   "source": [
    "let a = 500 in (let b = a * a in a + b)"
   ]
  },
  {
   "cell_type": "markdown",
   "id": "fbc0dc6b-a7c4-4185-98e6-087eb64b7655",
   "metadata": {},
   "source": [
    "In the example above, `let b = a * a in a + b` is within parenthesis for clarity, but the same expression without parenthesis evaluates to the same value: "
   ]
  },
  {
   "cell_type": "code",
   "execution_count": 8,
   "id": "714eaae5-e17c-40a0-80fb-414ec8fb6faf",
   "metadata": {},
   "outputs": [
    {
     "data": {
      "text/plain": [
       "- : int = 250500\n"
      ]
     },
     "execution_count": 8,
     "metadata": {},
     "output_type": "execute_result"
    }
   ],
   "source": [
    "let a = 500 in let b = a * a in a + b"
   ]
  },
  {
   "cell_type": "markdown",
   "id": "b6a8f011-a6a3-485d-aeaf-bc4d26719451",
   "metadata": {},
   "source": [
    "The expression between parenthesis will resolve `b` to the square of `a` and then add `a` and `b`. As `a` was defined to 500, we have:"
   ]
  },
  {
   "cell_type": "markdown",
   "id": "460f4af5-e15c-46fa-8cda-9eac4e37a9ed",
   "metadata": {
    "tags": []
   },
   "source": [
    "$$\n",
    "    \\ \\\\\n",
    "    a = 500 \\\\\n",
    "    b = a^2 \\\\\n",
    "    x = a + b \\\\\n",
    "    x = 500 + 500^2 \\\\\n",
    "    x = 250500 \\\\\n",
    "$$\n"
   ]
  },
  {
   "cell_type": "markdown",
   "id": "f8914b14-3694-40c7-996f-abb7b517bbed",
   "metadata": {},
   "source": [
    "### Types and operators"
   ]
  },
  {
   "cell_type": "markdown",
   "id": "35634825-4be1-41eb-b5dc-3cf897c349bb",
   "metadata": {},
   "source": [
    "OCaml has type inferrence, but types can also be explicitly declared:"
   ]
  },
  {
   "cell_type": "code",
   "execution_count": 9,
   "id": "27a15dcd-6d5e-471c-9079-5e0ada219fdc",
   "metadata": {
    "tags": []
   },
   "outputs": [
    {
     "data": {
      "text/plain": [
       "val i : int = 3\n"
      ]
     },
     "execution_count": 9,
     "metadata": {},
     "output_type": "execute_result"
    },
    {
     "data": {
      "text/plain": [
       "val f : float = 3.\n"
      ]
     },
     "execution_count": 9,
     "metadata": {},
     "output_type": "execute_result"
    }
   ],
   "source": [
    "let i = 3\n",
    "let f = 3.0"
   ]
  },
  {
   "cell_type": "code",
   "execution_count": 10,
   "id": "3780a0ce-c671-4539-9809-bc5ee1326c7b",
   "metadata": {
    "tags": []
   },
   "outputs": [
    {
     "ename": "error",
     "evalue": "compile_error",
     "output_type": "error",
     "traceback": [
      "File \"[10]\", line 1, characters 14-17:\n1 | let c: char = 7.9\n                  ^^^\nError: This expression has type float but an expression was expected of type\n         char\n"
     ]
    }
   ],
   "source": [
    "let c: char = 7.9"
   ]
  },
  {
   "cell_type": "markdown",
   "id": "6bb73841-1851-4fde-bab8-8f6d267848e1",
   "metadata": {
    "tags": []
   },
   "source": [
    "The operators are similar to other programming languages I am familiar with:"
   ]
  },
  {
   "cell_type": "code",
   "execution_count": 11,
   "id": "ef0bb35a-9039-4f46-a7a7-995e0ea80f24",
   "metadata": {
    "tags": []
   },
   "outputs": [
    {
     "data": {
      "text/plain": [
       "- : bool = true\n"
      ]
     },
     "execution_count": 11,
     "metadata": {},
     "output_type": "execute_result"
    },
    {
     "data": {
      "text/plain": [
       "- : bool = true\n"
      ]
     },
     "execution_count": 11,
     "metadata": {},
     "output_type": "execute_result"
    },
    {
     "data": {
      "text/plain": [
       "- : bool = true\n"
      ]
     },
     "execution_count": 11,
     "metadata": {},
     "output_type": "execute_result"
    }
   ],
   "source": [
    "2 + 2 = 4 ;;\n",
    "3 - 3 = 0 ;;\n",
    "1 + 6 * 2 = 13 ;;"
   ]
  },
  {
   "cell_type": "markdown",
   "id": "529dd0ab-595d-47c6-8e47-84afe894face",
   "metadata": {},
   "source": [
    "If you divide integers, you will not get a float:"
   ]
  },
  {
   "cell_type": "code",
   "execution_count": 12,
   "id": "dfe7f9e9-162c-4ab8-aeb3-25e985b2b186",
   "metadata": {
    "tags": []
   },
   "outputs": [
    {
     "data": {
      "text/plain": [
       "- : bool = true\n"
      ]
     },
     "execution_count": 12,
     "metadata": {},
     "output_type": "execute_result"
    }
   ],
   "source": [
    "3 / 2 = 1"
   ]
  },
  {
   "cell_type": "markdown",
   "id": "ce635ad8-ded6-490d-9676-ea29cb28f0eb",
   "metadata": {},
   "source": [
    "Logical operators are also similar to most other languages I am familiar with, except for the `<>` operator used for non-equality and the fact that a single `=` can be used for equality:"
   ]
  },
  {
   "cell_type": "code",
   "execution_count": 13,
   "id": "541f9ddb-158c-48af-9369-3f3680cfb8d0",
   "metadata": {
    "tags": []
   },
   "outputs": [
    {
     "data": {
      "text/plain": [
       "- : bool = true\n"
      ]
     },
     "execution_count": 13,
     "metadata": {},
     "output_type": "execute_result"
    }
   ],
   "source": [
    "(2 = 2) && (3 > 1) && (5 <= 5) && (3 <> 0)"
   ]
  },
  {
   "cell_type": "markdown",
   "id": "e926ec99-b9df-4391-bc99-b6549b4dcf52",
   "metadata": {},
   "source": [
    "**Unlike** most languages I know, OCaml is strict about what types each operator is able to handle.\n",
    "\n",
    "It will _not_ make its best attempt when passed expresions such as: "
   ]
  },
  {
   "cell_type": "code",
   "execution_count": 14,
   "id": "756b67b4-cc49-4e23-9aba-e990cdd4730d",
   "metadata": {
    "tags": []
   },
   "outputs": [
    {
     "ename": "error",
     "evalue": "compile_error",
     "output_type": "error",
     "traceback": [
      "File \"[14]\", line 1, characters 0-3:\n1 | 5.0 / 2\n    ^^^\nError: This expression has type float but an expression was expected of type\n         int\n"
     ]
    }
   ],
   "source": [
    "5.0 / 2"
   ]
  },
  {
   "cell_type": "code",
   "execution_count": 15,
   "id": "89c4fd67-9e79-4891-b4d2-4affdb2573b5",
   "metadata": {},
   "outputs": [
    {
     "ename": "error",
     "evalue": "compile_error",
     "output_type": "error",
     "traceback": [
      "File \"[15]\", line 1, characters 0-13:\n1 | \"type-strict\" + \"operators\"\n    ^^^^^^^^^^^^^\nError: This expression has type string but an expression was expected of type\n         int\n"
     ]
    }
   ],
   "source": [
    "\"type-strict\" + \"operators\""
   ]
  },
  {
   "cell_type": "code",
   "execution_count": 16,
   "id": "b0297c40-1525-4346-9c74-ca580a0f3d60",
   "metadata": {
    "tags": []
   },
   "outputs": [
    {
     "ename": "error",
     "evalue": "compile_error",
     "output_type": "error",
     "traceback": [
      "File \"[16]\", line 1, characters 0-36:\n1 | \"won't even add chars to your strin\" + \"g\"\n    ^^^^^^^^^^^^^^^^^^^^^^^^^^^^^^^^^^^^\nError: This expression has type string but an expression was expected of type\n         int\n"
     ]
    }
   ],
   "source": [
    "\"won't even add chars to your strin\" + \"g\""
   ]
  },
  {
   "cell_type": "code",
   "execution_count": 17,
   "id": "f1db5be7-5bfc-44a1-b1f2-7f60b5e4a615",
   "metadata": {
    "tags": []
   },
   "outputs": [
    {
     "data": {
      "text/plain": [
       "val x : int = 0\n"
      ]
     },
     "execution_count": 17,
     "metadata": {},
     "output_type": "execute_result"
    },
    {
     "ename": "error",
     "evalue": "compile_error",
     "output_type": "error",
     "traceback": [
      "File \"[17]\", line 3, characters 11-12:\n3 | let y = if x then 3 else 1\n               ^\nError: This expression has type int but an expression was expected of type\n         bool\n       because it is in the condition of an if-statement\n"
     ]
    }
   ],
   "source": [
    "let x = 0\n",
    "\n",
    "let y = if x then 3 else 1"
   ]
  },
  {
   "cell_type": "markdown",
   "id": "d8e98c19-e07d-4571-9947-4663cf0fe9d6",
   "metadata": {},
   "source": [
    "For operations between floats you want to use `+.`, `-.`, `*.` and `/.` instead:"
   ]
  },
  {
   "cell_type": "code",
   "execution_count": 18,
   "id": "5b5191a1-9a4e-49b0-ba1a-1fd803a69283",
   "metadata": {
    "tags": []
   },
   "outputs": [
    {
     "data": {
      "text/plain": [
       "- : bool = true\n"
      ]
     },
     "execution_count": 18,
     "metadata": {},
     "output_type": "execute_result"
    }
   ],
   "source": [
    "(7.0001 -. 0.0001 = 14.0 /. 2.0) = (6.0 +. 1.0 = 3.5 *. 2.0)"
   ]
  },
  {
   "cell_type": "markdown",
   "id": "32c56f01-6ae6-43b5-9d3e-01aa35d00207",
   "metadata": {},
   "source": [
    "I really like the way OCaml behaves here compared to many of the languages I studied, either with and without static typing and type inferrence, where all sorts of nonsense can happen due to operations involving different types being handled through implicit conversions."
   ]
  },
  {
   "cell_type": "markdown",
   "id": "3538fc04-c8d4-4446-a73e-580b9eeb1ae2",
   "metadata": {},
   "source": [
    "However, you can still use comparison between chars:"
   ]
  },
  {
   "cell_type": "code",
   "execution_count": 19,
   "id": "8c580e5d-ad94-4370-a06a-22a2062bb64d",
   "metadata": {
    "tags": []
   },
   "outputs": [
    {
     "data": {
      "text/plain": [
       "- : bool = true\n"
      ]
     },
     "execution_count": 19,
     "metadata": {},
     "output_type": "execute_result"
    }
   ],
   "source": [
    "'a' < 'z' && '@' > '&'"
   ]
  },
  {
   "cell_type": "markdown",
   "id": "c3f813c3-4854-47d6-976f-5e596b967ed4",
   "metadata": {},
   "source": [
    "In fact, the `<` and `>` operators seem to be more flexible in this regard, also allowing for instance:"
   ]
  },
  {
   "cell_type": "code",
   "execution_count": 20,
   "id": "914c75ba-b8e8-41cd-9f25-f8d808fdc447",
   "metadata": {
    "tags": []
   },
   "outputs": [
    {
     "data": {
      "text/plain": [
       "- : bool = true\n"
      ]
     },
     "execution_count": 20,
     "metadata": {},
     "output_type": "execute_result"
    }
   ],
   "source": [
    "true > false"
   ]
  },
  {
   "cell_type": "code",
   "execution_count": 21,
   "id": "bc95b94f-48e1-4254-ace7-6a0a71c96ab9",
   "metadata": {
    "tags": []
   },
   "outputs": [
    {
     "data": {
      "text/plain": [
       "- : bool = false\n"
      ]
     },
     "execution_count": 21,
     "metadata": {},
     "output_type": "execute_result"
    }
   ],
   "source": [
    "\"a string\" > \"another\""
   ]
  },
  {
   "cell_type": "markdown",
   "id": "84e7754e-4827-4857-bc4e-7004bda3f806",
   "metadata": {},
   "source": [
    "Still, it won't compare integers and floats:"
   ]
  },
  {
   "cell_type": "code",
   "execution_count": 22,
   "id": "f97d3cc9-37a3-4bbb-b487-96427242b347",
   "metadata": {
    "tags": []
   },
   "outputs": [
    {
     "ename": "error",
     "evalue": "compile_error",
     "output_type": "error",
     "traceback": [
      "File \"[22]\", line 1, characters 4-7:\n1 | 2 > 1.0\n        ^^^\nError: This expression has type float but an expression was expected of type\n         int\n"
     ]
    }
   ],
   "source": [
    "2 > 1.0"
   ]
  },
  {
   "cell_type": "markdown",
   "id": "2aba5267-32a8-4a40-91bd-43605867f1eb",
   "metadata": {},
   "source": [
    "The special keywords `max_int` and `min_int` evaluate to the corresponding minimal and maximum integer values possible:"
   ]
  },
  {
   "cell_type": "code",
   "execution_count": 23,
   "id": "8599fd26-6ce3-47e7-8f07-e9c0daf5a50f",
   "metadata": {
    "tags": []
   },
   "outputs": [
    {
     "data": {
      "text/plain": [
       "- : int = 4611686018427387903\n"
      ]
     },
     "execution_count": 23,
     "metadata": {},
     "output_type": "execute_result"
    },
    {
     "data": {
      "text/plain": [
       "- : int = -4611686018427387904\n"
      ]
     },
     "execution_count": 23,
     "metadata": {},
     "output_type": "execute_result"
    }
   ],
   "source": [
    "max_int ;;\n",
    "min_int ;;"
   ]
  },
  {
   "cell_type": "markdown",
   "id": "e71d2dbe-01a1-4d1e-b8ce-c781184fecf7",
   "metadata": {},
   "source": [
    "If they are exceeded, they will wrap to their opposite:"
   ]
  },
  {
   "cell_type": "code",
   "execution_count": 24,
   "id": "31a586fe-ef92-4df7-b368-096c38d24104",
   "metadata": {
    "tags": []
   },
   "outputs": [
    {
     "data": {
      "text/plain": [
       "- : int = -4611686018427387904\n"
      ]
     },
     "execution_count": 24,
     "metadata": {},
     "output_type": "execute_result"
    }
   ],
   "source": [
    "max_int + 1 ;;"
   ]
  },
  {
   "cell_type": "markdown",
   "id": "50916f4a-7882-4513-8572-3f9f7cecb608",
   "metadata": {},
   "source": [
    "Therefore, we can say that:"
   ]
  },
  {
   "cell_type": "code",
   "execution_count": 25,
   "id": "fee1a5f4-c837-48fc-926f-6970452dbfb5",
   "metadata": {
    "tags": []
   },
   "outputs": [
    {
     "data": {
      "text/plain": [
       "- : bool = true\n"
      ]
     },
     "execution_count": 25,
     "metadata": {},
     "output_type": "execute_result"
    }
   ],
   "source": [
    "max_int + 1 = min_int && min_int - 1 = max_int"
   ]
  },
  {
   "cell_type": "markdown",
   "id": "57c563d6-d293-4513-9502-27f8cadf5da4",
   "metadata": {},
   "source": [
    "### Flow control"
   ]
  },
  {
   "cell_type": "markdown",
   "id": "35977561-13e2-474d-bb4a-2c65cf2786e7",
   "metadata": {},
   "source": [
    "As shown in the previous example where the integer value `0` was passed to an `if`, conditional structures are expressions in OCaml, meaning they can return values: "
   ]
  },
  {
   "cell_type": "code",
   "execution_count": 26,
   "id": "34c5210a-bd3c-41c5-bcf6-d08a5572fb86",
   "metadata": {
    "tags": []
   },
   "outputs": [
    {
     "data": {
      "text/plain": [
       "- : int = 10\n"
      ]
     },
     "execution_count": 26,
     "metadata": {},
     "output_type": "execute_result"
    }
   ],
   "source": [
    "2 * if \"hello\" = \"world\" then 3 else 5"
   ]
  },
  {
   "cell_type": "markdown",
   "id": "9492511c-d67a-42f3-ad5c-b44d1122b4ef",
   "metadata": {},
   "source": [
    "Note that the whole expression must evaluate to the same type. In this example that wil be determined by the first type in the expression:"
   ]
  },
  {
   "cell_type": "code",
   "execution_count": 27,
   "id": "c1da34be-242b-4449-89fc-25352e584778",
   "metadata": {
    "tags": []
   },
   "outputs": [
    {
     "ename": "error",
     "evalue": "compile_error",
     "output_type": "error",
     "traceback": [
      "File \"[27]\", line 1, characters 34-35:\n1 | let x = if 100 > 99 then 0.1 else 0 ;;\n                                      ^\nError: This expression has type int but an expression was expected of type\n         float\n  Hint: Did you mean `0.'?\n"
     ]
    }
   ],
   "source": [
    "let x = if 100 > 99 then 0.1 else 0 ;;\n",
    "\n",
    "x"
   ]
  },
  {
   "cell_type": "markdown",
   "id": "09ba7479-1071-4e3d-b354-052177942ee7",
   "metadata": {},
   "source": [
    "In the example above, the `0.1` value causes the `1` value to be considered wrong by the compiler as it doesn't match the type of the first value, `0.1`, a float."
   ]
  },
  {
   "cell_type": "markdown",
   "id": "953b0b37-99eb-4838-8889-3038e5615da8",
   "metadata": {},
   "source": [
    "Conversely, if we invert their positions, the compiler now emits an error on the second value not being an integer:"
   ]
  },
  {
   "cell_type": "code",
   "execution_count": 28,
   "id": "ac504300-967f-4cb1-8dd8-38471b2ce097",
   "metadata": {
    "tags": []
   },
   "outputs": [
    {
     "ename": "error",
     "evalue": "compile_error",
     "output_type": "error",
     "traceback": [
      "File \"[28]\", line 1, characters 32-35:\n1 | let x = if 100 > 99 then 0 else 0.1 ;;\n                                    ^^^\nError: This expression has type float but an expression was expected of type\n         int\n"
     ]
    }
   ],
   "source": [
    "let x = if 100 > 99 then 0 else 0.1 ;;\n",
    "\n",
    "x"
   ]
  },
  {
   "cell_type": "markdown",
   "id": "256d7a41-0453-4562-817f-5e9345cf490d",
   "metadata": {
    "tags": []
   },
   "source": [
    "### Functions"
   ]
  },
  {
   "cell_type": "markdown",
   "id": "c914188e-eaf0-4c49-8935-9f68ce2a18bc",
   "metadata": {},
   "source": [
    "This function takes `x` as an argument and returns $x^3$:"
   ]
  },
  {
   "cell_type": "code",
   "execution_count": 29,
   "id": "dd450a5d-d205-472d-9f5f-8e8622419fce",
   "metadata": {
    "tags": []
   },
   "outputs": [
    {
     "data": {
      "text/plain": [
       "val cube : int -> int = <fun>\n"
      ]
     },
     "execution_count": 29,
     "metadata": {},
     "output_type": "execute_result"
    }
   ],
   "source": [
    "let cube x = x * x * x"
   ]
  },
  {
   "cell_type": "markdown",
   "id": "6b582bf9-d5cf-43da-89f3-a68be3c379b6",
   "metadata": {},
   "source": [
    "Notice how the interpreter response is stating `cube` is a value, printing it's signature of taking an integer and returning an integer (`int -> int`) and that it is a function."
   ]
  },
  {
   "cell_type": "markdown",
   "id": "89fe9f4e-f38a-4252-9e99-22785e747de7",
   "metadata": {},
   "source": [
    "So if we run cube on the number 4:"
   ]
  },
  {
   "cell_type": "code",
   "execution_count": 30,
   "id": "0120856c-3f29-4b06-a7fc-c23cbd9050f5",
   "metadata": {
    "tags": []
   },
   "outputs": [
    {
     "data": {
      "text/plain": [
       "- : int = 64\n"
      ]
     },
     "execution_count": 30,
     "metadata": {},
     "output_type": "execute_result"
    }
   ],
   "source": [
    "cube 4"
   ]
  },
  {
   "cell_type": "markdown",
   "id": "8d58fdc3-b74b-4b03-a2ba-c090ed7db051",
   "metadata": {},
   "source": [
    "Because `if` structures are expressions, they can be the body of a function:"
   ]
  },
  {
   "cell_type": "code",
   "execution_count": 31,
   "id": "bbaed97d-e6aa-437d-8880-889de4f3fe60",
   "metadata": {
    "tags": []
   },
   "outputs": [
    {
     "data": {
      "text/plain": [
       "val neg : int -> bool = <fun>\n"
      ]
     },
     "execution_count": 31,
     "metadata": {},
     "output_type": "execute_result"
    }
   ],
   "source": [
    "let neg x = if x < 0 then true else false"
   ]
  },
  {
   "cell_type": "markdown",
   "id": "1f696098-b13c-486a-bb9b-adb408dde55a",
   "metadata": {},
   "source": [
    "However, the above function could be simplified to:"
   ]
  },
  {
   "cell_type": "code",
   "execution_count": 32,
   "id": "e6ace8a2-f16a-40c4-ae20-5a9f32490deb",
   "metadata": {
    "tags": []
   },
   "outputs": [
    {
     "data": {
      "text/plain": [
       "val neg : int -> bool = <fun>\n"
      ]
     },
     "execution_count": 32,
     "metadata": {},
     "output_type": "execute_result"
    }
   ],
   "source": [
    "let neg x = x < 0"
   ]
  },
  {
   "cell_type": "markdown",
   "id": "bc183fcb-8fe0-43a4-afa0-a437f1632343",
   "metadata": {},
   "source": [
    "Calling the function with a negative value requires having it inside parenthesis:"
   ]
  },
  {
   "cell_type": "code",
   "execution_count": 33,
   "id": "691d5e7b-fac1-419f-b9e2-d3ab38df819b",
   "metadata": {
    "tags": []
   },
   "outputs": [
    {
     "data": {
      "text/plain": [
       "- : bool = true\n"
      ]
     },
     "execution_count": 33,
     "metadata": {},
     "output_type": "execute_result"
    }
   ],
   "source": [
    "neg (-30)"
   ]
  },
  {
   "cell_type": "markdown",
   "id": "c50c3eb3-f623-4325-b22a-c9dea4e74321",
   "metadata": {},
   "source": [
    "Whitington explains this as \"We added parentheses to distinguish from neg - 30\", but I did not really understand what was meant by that."
   ]
  },
  {
   "cell_type": "markdown",
   "id": "950496e6-6458-437b-9b0b-40622b7d546c",
   "metadata": {},
   "source": [
    "The error message is:"
   ]
  },
  {
   "cell_type": "code",
   "execution_count": 34,
   "id": "9664ca1b-bc88-4e6f-9eb1-986ff3ec1c91",
   "metadata": {
    "tags": []
   },
   "outputs": [
    {
     "ename": "error",
     "evalue": "compile_error",
     "output_type": "error",
     "traceback": [
      "File \"[34]\", line 1, characters 0-3:\n1 | neg -30\n    ^^^\nError: This expression has type int -> bool\n       but an expression was expected of type int\n"
     ]
    }
   ],
   "source": [
    "neg -30"
   ]
  },
  {
   "cell_type": "markdown",
   "id": "0546c167-d81c-4b6c-b6c0-7f39229c6687",
   "metadata": {},
   "source": [
    "Functions with multiple parameters are possible and look just as you would expect from looking at the single-parameter ones:"
   ]
  },
  {
   "cell_type": "code",
   "execution_count": 35,
   "id": "afbc11b6-8c21-4eff-886a-678a51ccc573",
   "metadata": {
    "tags": []
   },
   "outputs": [
    {
     "data": {
      "text/plain": [
       "val add : int -> int -> int = <fun>\n"
      ]
     },
     "execution_count": 35,
     "metadata": {},
     "output_type": "execute_result"
    },
    {
     "data": {
      "text/plain": [
       "- : int = 20\n"
      ]
     },
     "execution_count": 35,
     "metadata": {},
     "output_type": "execute_result"
    }
   ],
   "source": [
    "let add j k = j+k ;;\n",
    "\n",
    "add 8 12"
   ]
  },
  {
   "cell_type": "markdown",
   "id": "2ad505ff-5375-44d2-9350-4892f57a698b",
   "metadata": {},
   "source": [
    "Notice how the signature returned by the interpreter looks like a curried function."
   ]
  },
  {
   "cell_type": "markdown",
   "id": "c1126089-38ef-48d7-9864-148f8c3cfc61",
   "metadata": {},
   "source": [
    "Recursive functions must use the `rec` keyword, otherwise the recursion call will state the function is unbound:"
   ]
  },
  {
   "cell_type": "code",
   "execution_count": 36,
   "id": "0599deb9-3ff0-4200-9f24-7102d10dea97",
   "metadata": {
    "tags": []
   },
   "outputs": [
    {
     "ename": "error",
     "evalue": "compile_error",
     "output_type": "error",
     "traceback": [
      "File \"[36]\", line 2, characters 27-36:\n2 |   if a = 1 then 1 else a * factorial (a - 1)\n                               ^^^^^^^^^\nError: Unbound value factorial\nHint: If this is a recursive definition,\nyou should add the 'rec' keyword on line 1\n"
     ]
    }
   ],
   "source": [
    "let factorial a =\n",
    "  if a = 1 then 1 else a * factorial (a - 1)"
   ]
  },
  {
   "cell_type": "code",
   "execution_count": 37,
   "id": "9856f316-4e15-4dbd-8f61-59e4ae835e17",
   "metadata": {
    "tags": []
   },
   "outputs": [
    {
     "data": {
      "text/plain": [
       "val factorial : int -> int = <fun>\n"
      ]
     },
     "execution_count": 37,
     "metadata": {},
     "output_type": "execute_result"
    },
    {
     "data": {
      "text/plain": [
       "- : int = 24\n"
      ]
     },
     "execution_count": 37,
     "metadata": {},
     "output_type": "execute_result"
    }
   ],
   "source": [
    "let rec factorial a =\n",
    "  if a = 1 then 1 else a * factorial (a - 1) ;;\n",
    "\n",
    "factorial 4"
   ]
  },
  {
   "cell_type": "markdown",
   "id": "34be32aa-52d9-4865-880c-2a5b7d983b7b",
   "metadata": {},
   "source": [
    "The following sequence from Whitington's book was a nice, visual way to illustrate this recursion:"
   ]
  },
  {
   "cell_type": "raw",
   "id": "e7eb0412-33d8-45e4-97d5-e8f4d86dbb36",
   "metadata": {},
   "source": [
    "  factorial 4\n",
    "  4 * factorial 3\n",
    "  4 * (3 * factorial 2)\n",
    "  4 * (3 * (2 * factorial 1))\n",
    "  4 * (3 * (2 * 1))\n",
    "  4 * (3 * 2)\n",
    "  4 * 6\n",
    "  24"
   ]
  },
  {
   "cell_type": "markdown",
   "id": "f490ce35-09c0-4e4d-9627-65a730b557c4",
   "metadata": {},
   "source": [
    "OCaml is able to tell when an infinite recursion is going on:"
   ]
  },
  {
   "cell_type": "code",
   "execution_count": 38,
   "id": "f4d92972-41d7-440f-8689-f060a9252152",
   "metadata": {
    "scrolled": true,
    "tags": []
   },
   "outputs": [
    {
     "ename": "error",
     "evalue": "runtime_error",
     "output_type": "error",
     "traceback": [
      "\u001b[31mStack overflow during evaluation (looping recursion?).\nRaised by primitive operation at factorial in file \"[37]\", line 2, characters 27-44\nCalled from factorial in file \"[37]\", line 2, characters 27-44\nCalled from factorial in file \"[37]\", line 2, characters 27-44\nCalled from factorial in file \"[37]\", line 2, characters 27-44\nCalled from factorial in file \"[37]\", line 2, characters 27-44\nCalled from factorial in file \"[37]\", line 2, characters 27-44\nCalled from factorial in file \"[37]\", line 2, characters 27-44\nCalled from factorial in file \"[37]\", line 2, characters 27-44\nCalled from factorial in file \"[37]\", line 2, characters 27-44\nCalled from factorial in file \"[37]\", line 2, characters 27-44\nCalled from factorial in file \"[37]\", line 2, characters 27-44\nCalled from factorial in file \"[37]\", line 2, characters 27-44\nCalled from factorial in file \"[37]\", line 2, characters 27-44\nCalled from factorial in file \"[37]\", line 2, characters 27-44\nCalled from factorial in file \"[37]\", line 2, characters 27-44\nCalled from factorial in file \"[37]\", line 2, characters 27-44\nCalled from factorial in file \"[37]\", line 2, characters 27-44\nCalled from factorial in file \"[37]\", line 2, characters 27-44\nCalled from factorial in file \"[37]\", line 2, characters 27-44\nCalled from factorial in file \"[37]\", line 2, characters 27-44\nCalled from factorial in file \"[37]\", line 2, characters 27-44\nCalled from factorial in file \"[37]\", line 2, characters 27-44\nCalled from factorial in file \"[37]\", line 2, characters 27-44\nCalled from factorial in file \"[37]\", line 2, characters 27-44\nCalled from factorial in file \"[37]\", line 2, characters 27-44\nCalled from factorial in file \"[37]\", line 2, characters 27-44\nCalled from factorial in file \"[37]\", line 2, characters 27-44\nCalled from factorial in file \"[37]\", line 2, characters 27-44\nCalled from factorial in file \"[37]\", line 2, characters 27-44\nCalled from factorial in file \"[37]\", line 2, characters 27-44\nCalled from factorial in file \"[37]\", line 2, characters 27-44\nCalled from factorial in file \"[37]\", line 2, characters 27-44\nCalled from factorial in file \"[37]\", line 2, characters 27-44\nCalled from factorial in file \"[37]\", line 2, characters 27-44\nCalled from factorial in file \"[37]\", line 2, characters 27-44\nCalled from factorial in file \"[37]\", line 2, characters 27-44\nCalled from factorial in file \"[37]\", line 2, characters 27-44\nCalled from factorial in file \"[37]\", line 2, characters 27-44\nCalled from factorial in file \"[37]\", line 2, characters 27-44\nCalled from factorial in file \"[37]\", line 2, characters 27-44\nCalled from factorial in file \"[37]\", line 2, characters 27-44\nCalled from factorial in file \"[37]\", line 2, characters 27-44\nCalled from factorial in file \"[37]\", line 2, characters 27-44\nCalled from factorial in file \"[37]\", line 2, characters 27-44\nCalled from factorial in file \"[37]\", line 2, characters 27-44\nCalled from factorial in file \"[37]\", line 2, characters 27-44\nCalled from factorial in file \"[37]\", line 2, characters 27-44\nCalled from factorial in file \"[37]\", line 2, characters 27-44\nCalled from factorial in file \"[37]\", line 2, characters 27-44\nCalled from factorial in file \"[37]\", line 2, characters 27-44\nCalled from factorial in file \"[37]\", line 2, characters 27-44\nCalled from factorial in file \"[37]\", line 2, characters 27-44\nCalled from factorial in file \"[37]\", line 2, characters 27-44\nCalled from factorial in file \"[37]\", line 2, characters 27-44\nCalled from factorial in file \"[37]\", line 2, characters 27-44\nCalled from factorial in file \"[37]\", line 2, characters 27-44\nCalled from factorial in file \"[37]\", line 2, characters 27-44\nCalled from factorial in file \"[37]\", line 2, characters 27-44\nCalled from factorial in file \"[37]\", line 2, characters 27-44\nCalled from factorial in file \"[37]\", line 2, characters 27-44\nCalled from factorial in file \"[37]\", line 2, characters 27-44\nCalled from factorial in file \"[37]\", line 2, characters 27-44\nCalled from factorial in file \"[37]\", line 2, characters 27-44\nCalled from factorial in file \"[37]\", line 2, characters 27-44\nCalled from factorial in file \"[37]\", line 2, characters 27-44\nCalled from factorial in file \"[37]\", line 2, characters 27-44\nCalled from factorial in file \"[37]\", line 2, characters 27-44\nCalled from factorial in file \"[37]\", line 2, characters 27-44\nCalled from factorial in file \"[37]\", line 2, characters 27-44\nCalled from factorial in file \"[37]\", line 2, characters 27-44\nCalled from factorial in file \"[37]\", line 2, characters 27-44\nCalled from factorial in file \"[37]\", line 2, characters 27-44\nCalled from factorial in file \"[37]\", line 2, characters 27-44\nCalled from factorial in file \"[37]\", line 2, characters 27-44\nCalled from factorial in file \"[37]\", line 2, characters 27-44\nCalled from factorial in file \"[37]\", line 2, characters 27-44\nCalled from factorial in file \"[37]\", line 2, characters 27-44\nCalled from factorial in file \"[37]\", line 2, characters 27-44\nCalled from factorial in file \"[37]\", line 2, characters 27-44\nCalled from factorial in file \"[37]\", line 2, characters 27-44\nCalled from factorial in file \"[37]\", line 2, characters 27-44\nCalled from factorial in file \"[37]\", line 2, characters 27-44\nCalled from factorial in file \"[37]\", line 2, characters 27-44\nCalled from factorial in file \"[37]\", line 2, characters 27-44\nCalled from factorial in file \"[37]\", line 2, characters 27-44\nCalled from factorial in file \"[37]\", line 2, characters 27-44\nCalled from factorial in file \"[37]\", line 2, characters 27-44\nCalled from factorial in file \"[37]\", line 2, characters 27-44\nCalled from factorial in file \"[37]\", line 2, characters 27-44\nCalled from factorial in file \"[37]\", line 2, characters 27-44\nCalled from factorial in file \"[37]\", line 2, characters 27-44\nCalled from factorial in file \"[37]\", line 2, characters 27-44\nCalled from factorial in file \"[37]\", line 2, characters 27-44\nCalled from factorial in file \"[37]\", line 2, characters 27-44\nCalled from factorial in file \"[37]\", line 2, characters 27-44\nCalled from factorial in file \"[37]\", line 2, characters 27-44\nCalled from factorial in file \"[37]\", line 2, characters 27-44\nCalled from factorial in file \"[37]\", line 2, characters 27-44\nCalled from factorial in file \"[37]\", line 2, characters 27-44\nCalled from factorial in file \"[37]\", line 2, characters 27-44\nCalled from factorial in file \"[37]\", line 2, characters 27-44\nCalled from factorial in file \"[37]\", line 2, characters 27-44\nCalled from factorial in file \"[37]\", line 2, characters 27-44\nCalled from factorial in file \"[37]\", line 2, characters 27-44\nCalled from factorial in file \"[37]\", line 2, characters 27-44\nCalled from factorial in file \"[37]\", line 2, characters 27-44\nCalled from factorial in file \"[37]\", line 2, characters 27-44\nCalled from factorial in file \"[37]\", line 2, characters 27-44\nCalled from factorial in file \"[37]\", line 2, characters 27-44\nCalled from factorial in file \"[37]\", line 2, characters 27-44\nCalled from factorial in file \"[37]\", line 2, characters 27-44\nCalled from factorial in file \"[37]\", line 2, characters 27-44\nCalled from factorial in file \"[37]\", line 2, characters 27-44\nCalled from factorial in file \"[37]\", line 2, characters 27-44\nCalled from factorial in file \"[37]\", line 2, characters 27-44\nCalled from factorial in file \"[37]\", line 2, characters 27-44\nCalled from factorial in file \"[37]\", line 2, characters 27-44\nCalled from factorial in file \"[37]\", line 2, characters 27-44\nCalled from factorial in file \"[37]\", line 2, characters 27-44\nCalled from factorial in file \"[37]\", line 2, characters 27-44\nCalled from factorial in file \"[37]\", line 2, characters 27-44\nCalled from factorial in file \"[37]\", line 2, characters 27-44\nCalled from factorial in file \"[37]\", line 2, characters 27-44\nCalled from factorial in file \"[37]\", line 2, characters 27-44\nCalled from factorial in file \"[37]\", line 2, characters 27-44\nCalled from factorial in file \"[37]\", line 2, characters 27-44\nCalled from factorial in file \"[37]\", line 2, characters 27-44\nCalled from factorial in file \"[37]\", line 2, characters 27-44\nCalled from factorial in file \"[37]\", line 2, characters 27-44\nCalled from factorial in file \"[37]\", line 2, characters 27-44\nCalled from factorial in file \"[37]\", line 2, characters 27-44\nCalled from factorial in file \"[37]\", line 2, characters 27-44\nCalled from factorial in file \"[37]\", line 2, characters 27-44\nCalled from factorial in file \"[37]\", line 2, characters 27-44\nCalled from factorial in file \"[37]\", line 2, characters 27-44\nCalled from factorial in file \"[37]\", line 2, characters 27-44\nCalled from factorial in file \"[37]\", line 2, characters 27-44\nCalled from factorial in file \"[37]\", line 2, characters 27-44\nCalled from factorial in file \"[37]\", line 2, characters 27-44\nCalled from factorial in file \"[37]\", line 2, characters 27-44\nCalled from factorial in file \"[37]\", line 2, characters 27-44\nCalled from factorial in file \"[37]\", line 2, characters 27-44\nCalled from factorial in file \"[37]\", line 2, characters 27-44\nCalled from factorial in file \"[37]\", line 2, characters 27-44\nCalled from factorial in file \"[37]\", line 2, characters 27-44\nCalled from factorial in file \"[37]\", line 2, characters 27-44\nCalled from factorial in file \"[37]\", line 2, characters 27-44\nCalled from factorial in file \"[37]\", line 2, characters 27-44\nCalled from factorial in file \"[37]\", line 2, characters 27-44\nCalled from factorial in file \"[37]\", line 2, characters 27-44\nCalled from factorial in file \"[37]\", line 2, characters 27-44\nCalled from factorial in file \"[37]\", line 2, characters 27-44\nCalled from factorial in file \"[37]\", line 2, characters 27-44\nCalled from factorial in file \"[37]\", line 2, characters 27-44\nCalled from factorial in file \"[37]\", line 2, characters 27-44\nCalled from factorial in file \"[37]\", line 2, characters 27-44\nCalled from factorial in file \"[37]\", line 2, characters 27-44\nCalled from factorial in file \"[37]\", line 2, characters 27-44\nCalled from factorial in file \"[37]\", line 2, characters 27-44\nCalled from factorial in file \"[37]\", line 2, characters 27-44\nCalled from factorial in file \"[37]\", line 2, characters 27-44\nCalled from factorial in file \"[37]\", line 2, characters 27-44\nCalled from factorial in file \"[37]\", line 2, characters 27-44\nCalled from factorial in file \"[37]\", line 2, characters 27-44\nCalled from factorial in file \"[37]\", line 2, characters 27-44\nCalled from factorial in file \"[37]\", line 2, characters 27-44\nCalled from factorial in file \"[37]\", line 2, characters 27-44\nCalled from factorial in file \"[37]\", line 2, characters 27-44\nCalled from factorial in file \"[37]\", line 2, characters 27-44\nCalled from factorial in file \"[37]\", line 2, characters 27-44\nCalled from factorial in file \"[37]\", line 2, characters 27-44\nCalled from factorial in file \"[37]\", line 2, characters 27-44\nCalled from factorial in file \"[37]\", line 2, characters 27-44\nCalled from factorial in file \"[37]\", line 2, characters 27-44\nCalled from factorial in file \"[37]\", line 2, characters 27-44\nCalled from factorial in file \"[37]\", line 2, characters 27-44\nCalled from factorial in file \"[37]\", line 2, characters 27-44\nCalled from factorial in file \"[37]\", line 2, characters 27-44\nCalled from factorial in file \"[37]\", line 2, characters 27-44\nCalled from factorial in file \"[37]\", line 2, characters 27-44\nCalled from factorial in file \"[37]\", line 2, characters 27-44\nCalled from factorial in file \"[37]\", line 2, characters 27-44\nCalled from factorial in file \"[37]\", line 2, characters 27-44\nCalled from factorial in file \"[37]\", line 2, characters 27-44\nCalled from factorial in file \"[37]\", line 2, characters 27-44\nCalled from factorial in file \"[37]\", line 2, characters 27-44\nCalled from factorial in file \"[37]\", line 2, characters 27-44\nCalled from factorial in file \"[37]\", line 2, characters 27-44\nCalled from factorial in file \"[37]\", line 2, characters 27-44\nCalled from factorial in file \"[37]\", line 2, characters 27-44\nCalled from factorial in file \"[37]\", line 2, characters 27-44\nCalled from factorial in file \"[37]\", line 2, characters 27-44\nCalled from factorial in file \"[37]\", line 2, characters 27-44\nCalled from factorial in file \"[37]\", line 2, characters 27-44\nCalled from factorial in file \"[37]\", line 2, characters 27-44\nCalled from factorial in file \"[37]\", line 2, characters 27-44\nCalled from factorial in file \"[37]\", line 2, characters 27-44\nCalled from factorial in file \"[37]\", line 2, characters 27-44\nCalled from factorial in file \"[37]\", line 2, characters 27-44\nCalled from factorial in file \"[37]\", line 2, characters 27-44\nCalled from factorial in file \"[37]\", line 2, characters 27-44\nCalled from factorial in file \"[37]\", line 2, characters 27-44\nCalled from factorial in file \"[37]\", line 2, characters 27-44\nCalled from factorial in file \"[37]\", line 2, characters 27-44\nCalled from factorial in file \"[37]\", line 2, characters 27-44\nCalled from factorial in file \"[37]\", line 2, characters 27-44\nCalled from factorial in file \"[37]\", line 2, characters 27-44\nCalled from factorial in file \"[37]\", line 2, characters 27-44\nCalled from factorial in file \"[37]\", line 2, characters 27-44\nCalled from factorial in file \"[37]\", line 2, characters 27-44\nCalled from factorial in file \"[37]\", line 2, characters 27-44\nCalled from factorial in file \"[37]\", line 2, characters 27-44\nCalled from factorial in file \"[37]\", line 2, characters 27-44\nCalled from factorial in file \"[37]\", line 2, characters 27-44\nCalled from factorial in file \"[37]\", line 2, characters 27-44\nCalled from factorial in file \"[37]\", line 2, characters 27-44\nCalled from factorial in file \"[37]\", line 2, characters 27-44\nCalled from factorial in file \"[37]\", line 2, characters 27-44\nCalled from factorial in file \"[37]\", line 2, characters 27-44\nCalled from factorial in file \"[37]\", line 2, characters 27-44\nCalled from factorial in file \"[37]\", line 2, characters 27-44\nCalled from factorial in file \"[37]\", line 2, characters 27-44\nCalled from factorial in file \"[37]\", line 2, characters 27-44\nCalled from factorial in file \"[37]\", line 2, characters 27-44\nCalled from factorial in file \"[37]\", line 2, characters 27-44\nCalled from factorial in file \"[37]\", line 2, characters 27-44\nCalled from factorial in file \"[37]\", line 2, characters 27-44\nCalled from factorial in file \"[37]\", line 2, characters 27-44\nCalled from factorial in file \"[37]\", line 2, characters 27-44\nCalled from factorial in file \"[37]\", line 2, characters 27-44\nCalled from factorial in file \"[37]\", line 2, characters 27-44\nCalled from factorial in file \"[37]\", line 2, characters 27-44\nCalled from factorial in file \"[37]\", line 2, characters 27-44\nCalled from factorial in file \"[37]\", line 2, characters 27-44\nCalled from factorial in file \"[37]\", line 2, characters 27-44\nCalled from factorial in file \"[37]\", line 2, characters 27-44\nCalled from factorial in file \"[37]\", line 2, characters 27-44\nCalled from factorial in file \"[37]\", line 2, characters 27-44\nCalled from factorial in file \"[37]\", line 2, characters 27-44\nCalled from factorial in file \"[37]\", line 2, characters 27-44\nCalled from factorial in file \"[37]\", line 2, characters 27-44\nCalled from factorial in file \"[37]\", line 2, characters 27-44\nCalled from factorial in file \"[37]\", line 2, characters 27-44\nCalled from factorial in file \"[37]\", line 2, characters 27-44\nCalled from factorial in file \"[37]\", line 2, characters 27-44\nCalled from factorial in file \"[37]\", line 2, characters 27-44\nCalled from factorial in file \"[37]\", line 2, characters 27-44\nCalled from factorial in file \"[37]\", line 2, characters 27-44\nCalled from factorial in file \"[37]\", line 2, characters 27-44\nCalled from factorial in file \"[37]\", line 2, characters 27-44\nCalled from factorial in file \"[37]\", line 2, characters 27-44\nCalled from factorial in file \"[37]\", line 2, characters 27-44\nCalled from factorial in file \"[37]\", line 2, characters 27-44\nCalled from factorial in file \"[37]\", line 2, characters 27-44\nCalled from factorial in file \"[37]\", line 2, characters 27-44\nCalled from factorial in file \"[37]\", line 2, characters 27-44\nCalled from factorial in file \"[37]\", line 2, characters 27-44\nCalled from factorial in file \"[37]\", line 2, characters 27-44\nCalled from factorial in file \"[37]\", line 2, characters 27-44\nCalled from factorial in file \"[37]\", line 2, characters 27-44\nCalled from factorial in file \"[37]\", line 2, characters 27-44\nCalled from factorial in file \"[37]\", line 2, characters 27-44\nCalled from factorial in file \"[37]\", line 2, characters 27-44\nCalled from factorial in file \"[37]\", line 2, characters 27-44\nCalled from factorial in file \"[37]\", line 2, characters 27-44\nCalled from factorial in file \"[37]\", line 2, characters 27-44\nCalled from factorial in file \"[37]\", line 2, characters 27-44\nCalled from factorial in file \"[37]\", line 2, characters 27-44\nCalled from factorial in file \"[37]\", line 2, characters 27-44\nCalled from factorial in file \"[37]\", line 2, characters 27-44\nCalled from factorial in file \"[37]\", line 2, characters 27-44\nCalled from factorial in file \"[37]\", line 2, characters 27-44\nCalled from factorial in file \"[37]\", line 2, characters 27-44\nCalled from factorial in file \"[37]\", line 2, characters 27-44\nCalled from factorial in file \"[37]\", line 2, characters 27-44\nCalled from factorial in file \"[37]\", line 2, characters 27-44\nCalled from factorial in file \"[37]\", line 2, characters 27-44\nCalled from factorial in file \"[37]\", line 2, characters 27-44\nCalled from factorial in file \"[37]\", line 2, characters 27-44\nCalled from factorial in file \"[37]\", line 2, characters 27-44\nCalled from factorial in file \"[37]\", line 2, characters 27-44\nCalled from factorial in file \"[37]\", line 2, characters 27-44\nCalled from factorial in file \"[37]\", line 2, characters 27-44\nCalled from factorial in file \"[37]\", line 2, characters 27-44\nCalled from factorial in file \"[37]\", line 2, characters 27-44\nCalled from factorial in file \"[37]\", line 2, characters 27-44\nCalled from factorial in file \"[37]\", line 2, characters 27-44\nCalled from factorial in file \"[37]\", line 2, characters 27-44\nCalled from factorial in file \"[37]\", line 2, characters 27-44\nCalled from factorial in file \"[37]\", line 2, characters 27-44\nCalled from factorial in file \"[37]\", line 2, characters 27-44\nCalled from factorial in file \"[37]\", line 2, characters 27-44\nCalled from factorial in file \"[37]\", line 2, characters 27-44\nCalled from factorial in file \"[37]\", line 2, characters 27-44\nCalled from factorial in file \"[37]\", line 2, characters 27-44\nCalled from factorial in file \"[37]\", line 2, characters 27-44\nCalled from factorial in file \"[37]\", line 2, characters 27-44\nCalled from factorial in file \"[37]\", line 2, characters 27-44\nCalled from factorial in file \"[37]\", line 2, characters 27-44\nCalled from factorial in file \"[37]\", line 2, characters 27-44\nCalled from factorial in file \"[37]\", line 2, characters 27-44\nCalled from factorial in file \"[37]\", line 2, characters 27-44\nCalled from factorial in file \"[37]\", line 2, characters 27-44\nCalled from factorial in file \"[37]\", line 2, characters 27-44\nCalled from factorial in file \"[37]\", line 2, characters 27-44\nCalled from factorial in file \"[37]\", line 2, characters 27-44\nCalled from factorial in file \"[37]\", line 2, characters 27-44\nCalled from factorial in file \"[37]\", line 2, characters 27-44\nCalled from factorial in file \"[37]\", line 2, characters 27-44\nCalled from factorial in file \"[37]\", line 2, characters 27-44\nCalled from factorial in file \"[37]\", line 2, characters 27-44\nCalled from factorial in file \"[37]\", line 2, characters 27-44\nCalled from factorial in file \"[37]\", line 2, characters 27-44\nCalled from factorial in file \"[37]\", line 2, characters 27-44\nCalled from factorial in file \"[37]\", line 2, characters 27-44\nCalled from factorial in file \"[37]\", line 2, characters 27-44\nCalled from factorial in file \"[37]\", line 2, characters 27-44\nCalled from factorial in file \"[37]\", line 2, characters 27-44\nCalled from factorial in file \"[37]\", line 2, characters 27-44\nCalled from factorial in file \"[37]\", line 2, characters 27-44\nCalled from factorial in file \"[37]\", line 2, characters 27-44\nCalled from factorial in file \"[37]\", line 2, characters 27-44\nCalled from factorial in file \"[37]\", line 2, characters 27-44\nCalled from factorial in file \"[37]\", line 2, characters 27-44\nCalled from factorial in file \"[37]\", line 2, characters 27-44\nCalled from factorial in file \"[37]\", line 2, characters 27-44\nCalled from factorial in file \"[37]\", line 2, characters 27-44\nCalled from factorial in file \"[37]\", line 2, characters 27-44\nCalled from factorial in file \"[37]\", line 2, characters 27-44\nCalled from factorial in file \"[37]\", line 2, characters 27-44\nCalled from factorial in file \"[37]\", line 2, characters 27-44\nCalled from factorial in file \"[37]\", line 2, characters 27-44\nCalled from factorial in file \"[37]\", line 2, characters 27-44\nCalled from factorial in file \"[37]\", line 2, characters 27-44\nCalled from factorial in file \"[37]\", line 2, characters 27-44\nCalled from factorial in file \"[37]\", line 2, characters 27-44\nCalled from factorial in file \"[37]\", line 2, characters 27-44\nCalled from factorial in file \"[37]\", line 2, characters 27-44\nCalled from factorial in file \"[37]\", line 2, characters 27-44\nCalled from factorial in file \"[37]\", line 2, characters 27-44\nCalled from factorial in file \"[37]\", line 2, characters 27-44\nCalled from factorial in file \"[37]\", line 2, characters 27-44\nCalled from factorial in file \"[37]\", line 2, characters 27-44\nCalled from factorial in file \"[37]\", line 2, characters 27-44\nCalled from factorial in file \"[37]\", line 2, characters 27-44\nCalled from factorial in file \"[37]\", line 2, characters 27-44\nCalled from factorial in file \"[37]\", line 2, characters 27-44\nCalled from factorial in file \"[37]\", line 2, characters 27-44\nCalled from factorial in file \"[37]\", line 2, characters 27-44\nCalled from factorial in file \"[37]\", line 2, characters 27-44\nCalled from factorial in file \"[37]\", line 2, characters 27-44\nCalled from factorial in file \"[37]\", line 2, characters 27-44\nCalled from factorial in file \"[37]\", line 2, characters 27-44\nCalled from factorial in file \"[37]\", line 2, characters 27-44\nCalled from factorial in file \"[37]\", line 2, characters 27-44\nCalled from factorial in file \"[37]\", line 2, characters 27-44\nCalled from factorial in file \"[37]\", line 2, characters 27-44\nCalled from factorial in file \"[37]\", line 2, characters 27-44\nCalled from factorial in file \"[37]\", line 2, characters 27-44\nCalled from factorial in file \"[37]\", line 2, characters 27-44\nCalled from factorial in file \"[37]\", line 2, characters 27-44\nCalled from factorial in file \"[37]\", line 2, characters 27-44\nCalled from factorial in file \"[37]\", line 2, characters 27-44\nCalled from factorial in file \"[37]\", line 2, characters 27-44\nCalled from factorial in file \"[37]\", line 2, characters 27-44\nCalled from factorial in file \"[37]\", line 2, characters 27-44\nCalled from factorial in file \"[37]\", line 2, characters 27-44\nCalled from factorial in file \"[37]\", line 2, characters 27-44\nCalled from factorial in file \"[37]\", line 2, characters 27-44\nCalled from factorial in file \"[37]\", line 2, characters 27-44\nCalled from factorial in file \"[37]\", line 2, characters 27-44\nCalled from factorial in file \"[37]\", line 2, characters 27-44\nCalled from factorial in file \"[37]\", line 2, characters 27-44\nCalled from factorial in file \"[37]\", line 2, characters 27-44\nCalled from factorial in file \"[37]\", line 2, characters 27-44\nCalled from factorial in file \"[37]\", line 2, characters 27-44\nCalled from factorial in file \"[37]\", line 2, characters 27-44\nCalled from factorial in file \"[37]\", line 2, characters 27-44\nCalled from factorial in file \"[37]\", line 2, characters 27-44\nCalled from factorial in file \"[37]\", line 2, characters 27-44\nCalled from factorial in file \"[37]\", line 2, characters 27-44\nCalled from factorial in file \"[37]\", line 2, characters 27-44\nCalled from factorial in file \"[37]\", line 2, characters 27-44\nCalled from factorial in file \"[37]\", line 2, characters 27-44\nCalled from factorial in file \"[37]\", line 2, characters 27-44\nCalled from factorial in file \"[37]\", line 2, characters 27-44\nCalled from factorial in file \"[37]\", line 2, characters 27-44\nCalled from factorial in file \"[37]\", line 2, characters 27-44\nCalled from factorial in file \"[37]\", line 2, characters 27-44\nCalled from factorial in file \"[37]\", line 2, characters 27-44\nCalled from factorial in file \"[37]\", line 2, characters 27-44\nCalled from factorial in file \"[37]\", line 2, characters 27-44\nCalled from factorial in file \"[37]\", line 2, characters 27-44\nCalled from factorial in file \"[37]\", line 2, characters 27-44\nCalled from factorial in file \"[37]\", line 2, characters 27-44\nCalled from factorial in file \"[37]\", line 2, characters 27-44\nCalled from factorial in file \"[37]\", line 2, characters 27-44\nCalled from factorial in file \"[37]\", line 2, characters 27-44\nCalled from factorial in file \"[37]\", line 2, characters 27-44\nCalled from factorial in file \"[37]\", line 2, characters 27-44\nCalled from factorial in file \"[37]\", line 2, characters 27-44\nCalled from factorial in file \"[37]\", line 2, characters 27-44\nCalled from factorial in file \"[37]\", line 2, characters 27-44\nCalled from factorial in file \"[37]\", line 2, characters 27-44\nCalled from factorial in file \"[37]\", line 2, characters 27-44\nCalled from factorial in file \"[37]\", line 2, characters 27-44\nCalled from factorial in file \"[37]\", line 2, characters 27-44\nCalled from factorial in file \"[37]\", line 2, characters 27-44\nCalled from factorial in file \"[37]\", line 2, characters 27-44\nCalled from factorial in file \"[37]\", line 2, characters 27-44\nCalled from factorial in file \"[37]\", line 2, characters 27-44\nCalled from factorial in file \"[37]\", line 2, characters 27-44\nCalled from factorial in file \"[37]\", line 2, characters 27-44\nCalled from factorial in file \"[37]\", line 2, characters 27-44\nCalled from factorial in file \"[37]\", line 2, characters 27-44\nCalled from factorial in file \"[37]\", line 2, characters 27-44\nCalled from factorial in file \"[37]\", line 2, characters 27-44\nCalled from factorial in file \"[37]\", line 2, characters 27-44\nCalled from factorial in file \"[37]\", line 2, characters 27-44\nCalled from factorial in file \"[37]\", line 2, characters 27-44\nCalled from factorial in file \"[37]\", line 2, characters 27-44\nCalled from factorial in file \"[37]\", line 2, characters 27-44\nCalled from factorial in file \"[37]\", line 2, characters 27-44\nCalled from factorial in file \"[37]\", line 2, characters 27-44\nCalled from factorial in file \"[37]\", line 2, characters 27-44\nCalled from factorial in file \"[37]\", line 2, characters 27-44\nCalled from factorial in file \"[37]\", line 2, characters 27-44\nCalled from factorial in file \"[37]\", line 2, characters 27-44\nCalled from factorial in file \"[37]\", line 2, characters 27-44\nCalled from factorial in file \"[37]\", line 2, characters 27-44\nCalled from factorial in file \"[37]\", line 2, characters 27-44\nCalled from factorial in file \"[37]\", line 2, characters 27-44\nCalled from factorial in file \"[37]\", line 2, characters 27-44\nCalled from factorial in file \"[37]\", line 2, characters 27-44\nCalled from factorial in file \"[37]\", line 2, characters 27-44\nCalled from factorial in file \"[37]\", line 2, characters 27-44\nCalled from factorial in file \"[37]\", line 2, characters 27-44\nCalled from factorial in file \"[37]\", line 2, characters 27-44\nCalled from factorial in file \"[37]\", line 2, characters 27-44\nCalled from factorial in file \"[37]\", line 2, characters 27-44\nCalled from factorial in file \"[37]\", line 2, characters 27-44\nCalled from factorial in file \"[37]\", line 2, characters 27-44\nCalled from factorial in file \"[37]\", line 2, characters 27-44\nCalled from factorial in file \"[37]\", line 2, characters 27-44\nCalled from factorial in file \"[37]\", line 2, characters 27-44\nCalled from factorial in file \"[37]\", line 2, characters 27-44\nCalled from factorial in file \"[37]\", line 2, characters 27-44\nCalled from factorial in file \"[37]\", line 2, characters 27-44\nCalled from factorial in file \"[37]\", line 2, characters 27-44\nCalled from factorial in file \"[37]\", line 2, characters 27-44\nCalled from factorial in file \"[37]\", line 2, characters 27-44\nCalled from factorial in file \"[37]\", line 2, characters 27-44\nCalled from factorial in file \"[37]\", line 2, characters 27-44\nCalled from factorial in file \"[37]\", line 2, characters 27-44\nCalled from factorial in file \"[37]\", line 2, characters 27-44\nCalled from factorial in file \"[37]\", line 2, characters 27-44\nCalled from factorial in file \"[37]\", line 2, characters 27-44\nCalled from factorial in file \"[37]\", line 2, characters 27-44\nCalled from factorial in file \"[37]\", line 2, characters 27-44\nCalled from factorial in file \"[37]\", line 2, characters 27-44\nCalled from factorial in file \"[37]\", line 2, characters 27-44\nCalled from factorial in file \"[37]\", line 2, characters 27-44\nCalled from factorial in file \"[37]\", line 2, characters 27-44\nCalled from factorial in file \"[37]\", line 2, characters 27-44\nCalled from factorial in file \"[37]\", line 2, characters 27-44\nCalled from factorial in file \"[37]\", line 2, characters 27-44\nCalled from factorial in file \"[37]\", line 2, characters 27-44\nCalled from factorial in file \"[37]\", line 2, characters 27-44\nCalled from factorial in file \"[37]\", line 2, characters 27-44\nCalled from factorial in file \"[37]\", line 2, characters 27-44\nCalled from factorial in file \"[37]\", line 2, characters 27-44\nCalled from factorial in file \"[37]\", line 2, characters 27-44\nCalled from factorial in file \"[37]\", line 2, characters 27-44\nCalled from factorial in file \"[37]\", line 2, characters 27-44\nCalled from factorial in file \"[37]\", line 2, characters 27-44\nCalled from factorial in file \"[37]\", line 2, characters 27-44\nCalled from factorial in file \"[37]\", line 2, characters 27-44\nCalled from factorial in file \"[37]\", line 2, characters 27-44\nCalled from factorial in file \"[37]\", line 2, characters 27-44\nCalled from factorial in file \"[37]\", line 2, characters 27-44\nCalled from factorial in file \"[37]\", line 2, characters 27-44\nCalled from factorial in file \"[37]\", line 2, characters 27-44\nCalled from factorial in file \"[37]\", line 2, characters 27-44\nCalled from factorial in file \"[37]\", line 2, characters 27-44\nCalled from factorial in file \"[37]\", line 2, characters 27-44\nCalled from factorial in file \"[37]\", line 2, characters 27-44\nCalled from factorial in file \"[37]\", line 2, characters 27-44\nCalled from factorial in file \"[37]\", line 2, characters 27-44\nCalled from factorial in file \"[37]\", line 2, characters 27-44\nCalled from factorial in file \"[37]\", line 2, characters 27-44\nCalled from factorial in file \"[37]\", line 2, characters 27-44\nCalled from factorial in file \"[37]\", line 2, characters 27-44\nCalled from factorial in file \"[37]\", line 2, characters 27-44\nCalled from factorial in file \"[37]\", line 2, characters 27-44\nCalled from factorial in file \"[37]\", line 2, characters 27-44\nCalled from factorial in file \"[37]\", line 2, characters 27-44\nCalled from factorial in file \"[37]\", line 2, characters 27-44\nCalled from factorial in file \"[37]\", line 2, characters 27-44\nCalled from factorial in file \"[37]\", line 2, characters 27-44\nCalled from factorial in file \"[37]\", line 2, characters 27-44\nCalled from factorial in file \"[37]\", line 2, characters 27-44\nCalled from factorial in file \"[37]\", line 2, characters 27-44\nCalled from factorial in file \"[37]\", line 2, characters 27-44\nCalled from factorial in file \"[37]\", line 2, characters 27-44\nCalled from factorial in file \"[37]\", line 2, characters 27-44\nCalled from factorial in file \"[37]\", line 2, characters 27-44\nCalled from factorial in file \"[37]\", line 2, characters 27-44\nCalled from factorial in file \"[37]\", line 2, characters 27-44\nCalled from factorial in file \"[37]\", line 2, characters 27-44\nCalled from factorial in file \"[37]\", line 2, characters 27-44\nCalled from factorial in file \"[37]\", line 2, characters 27-44\nCalled from factorial in file \"[37]\", line 2, characters 27-44\nCalled from factorial in file \"[37]\", line 2, characters 27-44\nCalled from factorial in file \"[37]\", line 2, characters 27-44\nCalled from factorial in file \"[37]\", line 2, characters 27-44\nCalled from factorial in file \"[37]\", line 2, characters 27-44\nCalled from factorial in file \"[37]\", line 2, characters 27-44\nCalled from factorial in file \"[37]\", line 2, characters 27-44\nCalled from factorial in file \"[37]\", line 2, characters 27-44\nCalled from factorial in file \"[37]\", line 2, characters 27-44\nCalled from factorial in file \"[37]\", line 2, characters 27-44\nCalled from factorial in file \"[37]\", line 2, characters 27-44\nCalled from factorial in file \"[37]\", line 2, characters 27-44\nCalled from factorial in file \"[37]\", line 2, characters 27-44\nCalled from factorial in file \"[37]\", line 2, characters 27-44\nCalled from factorial in file \"[37]\", line 2, characters 27-44\nCalled from factorial in file \"[37]\", line 2, characters 27-44\nCalled from factorial in file \"[37]\", line 2, characters 27-44\nCalled from factorial in file \"[37]\", line 2, characters 27-44\nCalled from factorial in file \"[37]\", line 2, characters 27-44\nCalled from factorial in file \"[37]\", line 2, characters 27-44\nCalled from factorial in file \"[37]\", line 2, characters 27-44\nCalled from factorial in file \"[37]\", line 2, characters 27-44\nCalled from factorial in file \"[37]\", line 2, characters 27-44\nCalled from factorial in file \"[37]\", line 2, characters 27-44\nCalled from factorial in file \"[37]\", line 2, characters 27-44\nCalled from factorial in file \"[37]\", line 2, characters 27-44\nCalled from factorial in file \"[37]\", line 2, characters 27-44\nCalled from factorial in file \"[37]\", line 2, characters 27-44\nCalled from factorial in file \"[37]\", line 2, characters 27-44\nCalled from factorial in file \"[37]\", line 2, characters 27-44\nCalled from factorial in file \"[37]\", line 2, characters 27-44\nCalled from factorial in file \"[37]\", line 2, characters 27-44\nCalled from factorial in file \"[37]\", line 2, characters 27-44\nCalled from factorial in file \"[37]\", line 2, characters 27-44\nCalled from factorial in file \"[37]\", line 2, characters 27-44\nCalled from factorial in file \"[37]\", line 2, characters 27-44\nCalled from factorial in file \"[37]\", line 2, characters 27-44\nCalled from factorial in file \"[37]\", line 2, characters 27-44\nCalled from factorial in file \"[37]\", line 2, characters 27-44\nCalled from factorial in file \"[37]\", line 2, characters 27-44\nCalled from factorial in file \"[37]\", line 2, characters 27-44\nCalled from factorial in file \"[37]\", line 2, characters 27-44\nCalled from factorial in file \"[37]\", line 2, characters 27-44\nCalled from factorial in file \"[37]\", line 2, characters 27-44\nCalled from factorial in file \"[37]\", line 2, characters 27-44\nCalled from factorial in file \"[37]\", line 2, characters 27-44\nCalled from factorial in file \"[37]\", line 2, characters 27-44\nCalled from factorial in file \"[37]\", line 2, characters 27-44\nCalled from factorial in file \"[37]\", line 2, characters 27-44\nCalled from factorial in file \"[37]\", line 2, characters 27-44\nCalled from factorial in file \"[37]\", line 2, characters 27-44\nCalled from factorial in file \"[37]\", line 2, characters 27-44\nCalled from factorial in file \"[37]\", line 2, characters 27-44\nCalled from factorial in file \"[37]\", line 2, characters 27-44\nCalled from factorial in file \"[37]\", line 2, characters 27-44\nCalled from factorial in file \"[37]\", line 2, characters 27-44\nCalled from factorial in file \"[37]\", line 2, characters 27-44\nCalled from factorial in file \"[37]\", line 2, characters 27-44\nCalled from factorial in file \"[37]\", line 2, characters 27-44\nCalled from factorial in file \"[37]\", line 2, characters 27-44\nCalled from factorial in file \"[37]\", line 2, characters 27-44\nCalled from factorial in file \"[37]\", line 2, characters 27-44\nCalled from factorial in file \"[37]\", line 2, characters 27-44\nCalled from factorial in file \"[37]\", line 2, characters 27-44\nCalled from factorial in file \"[37]\", line 2, characters 27-44\nCalled from factorial in file \"[37]\", line 2, characters 27-44\nCalled from factorial in file \"[37]\", line 2, characters 27-44\nCalled from factorial in file \"[37]\", line 2, characters 27-44\nCalled from factorial in file \"[37]\", line 2, characters 27-44\nCalled from factorial in file \"[37]\", line 2, characters 27-44\nCalled from factorial in file \"[37]\", line 2, characters 27-44\nCalled from factorial in file \"[37]\", line 2, characters 27-44\nCalled from factorial in file \"[37]\", line 2, characters 27-44\nCalled from factorial in file \"[37]\", line 2, characters 27-44\nCalled from factorial in file \"[37]\", line 2, characters 27-44\nCalled from factorial in file \"[37]\", line 2, characters 27-44\nCalled from factorial in file \"[37]\", line 2, characters 27-44\nCalled from factorial in file \"[37]\", line 2, characters 27-44\nCalled from factorial in file \"[37]\", line 2, characters 27-44\nCalled from factorial in file \"[37]\", line 2, characters 27-44\nCalled from factorial in file \"[37]\", line 2, characters 27-44\nCalled from factorial in file \"[37]\", line 2, characters 27-44\nCalled from factorial in file \"[37]\", line 2, characters 27-44\nCalled from factorial in file \"[37]\", line 2, characters 27-44\nCalled from factorial in file \"[37]\", line 2, characters 27-44\nCalled from factorial in file \"[37]\", line 2, characters 27-44\nCalled from factorial in file \"[37]\", line 2, characters 27-44\nCalled from factorial in file \"[37]\", line 2, characters 27-44\nCalled from factorial in file \"[37]\", line 2, characters 27-44\nCalled from factorial in file \"[37]\", line 2, characters 27-44\nCalled from factorial in file \"[37]\", line 2, characters 27-44\nCalled from factorial in file \"[37]\", line 2, characters 27-44\nCalled from factorial in file \"[37]\", line 2, characters 27-44\nCalled from factorial in file \"[37]\", line 2, characters 27-44\nCalled from factorial in file \"[37]\", line 2, characters 27-44\nCalled from factorial in file \"[37]\", line 2, characters 27-44\nCalled from factorial in file \"[37]\", line 2, characters 27-44\nCalled from factorial in file \"[37]\", line 2, characters 27-44\nCalled from factorial in file \"[37]\", line 2, characters 27-44\nCalled from factorial in file \"[37]\", line 2, characters 27-44\nCalled from factorial in file \"[37]\", line 2, characters 27-44\nCalled from factorial in file \"[37]\", line 2, characters 27-44\nCalled from factorial in file \"[37]\", line 2, characters 27-44\nCalled from factorial in file \"[37]\", line 2, characters 27-44\nCalled from factorial in file \"[37]\", line 2, characters 27-44\nCalled from factorial in file \"[37]\", line 2, characters 27-44\nCalled from factorial in file \"[37]\", line 2, characters 27-44\nCalled from factorial in file \"[37]\", line 2, characters 27-44\nCalled from factorial in file \"[37]\", line 2, characters 27-44\nCalled from factorial in file \"[37]\", line 2, characters 27-44\nCalled from factorial in file \"[37]\", line 2, characters 27-44\nCalled from factorial in file \"[37]\", line 2, characters 27-44\nCalled from factorial in file \"[37]\", line 2, characters 27-44\nCalled from factorial in file \"[37]\", line 2, characters 27-44\nCalled from factorial in file \"[37]\", line 2, characters 27-44\nCalled from factorial in file \"[37]\", line 2, characters 27-44\nCalled from factorial in file \"[37]\", line 2, characters 27-44\nCalled from factorial in file \"[37]\", line 2, characters 27-44\nCalled from factorial in file \"[37]\", line 2, characters 27-44\nCalled from factorial in file \"[37]\", line 2, characters 27-44\nCalled from factorial in file \"[37]\", line 2, characters 27-44\nCalled from factorial in file \"[37]\", line 2, characters 27-44\nCalled from factorial in file \"[37]\", line 2, characters 27-44\nCalled from factorial in file \"[37]\", line 2, characters 27-44\nCalled from factorial in file \"[37]\", line 2, characters 27-44\nCalled from factorial in file \"[37]\", line 2, characters 27-44\nCalled from factorial in file \"[37]\", line 2, characters 27-44\nCalled from factorial in file \"[37]\", line 2, characters 27-44\nCalled from factorial in file \"[37]\", line 2, characters 27-44\nCalled from factorial in file \"[37]\", line 2, characters 27-44\nCalled from factorial in file \"[37]\", line 2, characters 27-44\nCalled from factorial in file \"[37]\", line 2, characters 27-44\nCalled from factorial in file \"[37]\", line 2, characters 27-44\nCalled from factorial in file \"[37]\", line 2, characters 27-44\nCalled from factorial in file \"[37]\", line 2, characters 27-44\nCalled from factorial in file \"[37]\", line 2, characters 27-44\nCalled from factorial in file \"[37]\", line 2, characters 27-44\nCalled from factorial in file \"[37]\", line 2, characters 27-44\nCalled from factorial in file \"[37]\", line 2, characters 27-44\nCalled from factorial in file \"[37]\", line 2, characters 27-44\nCalled from factorial in file \"[37]\", line 2, characters 27-44\nCalled from factorial in file \"[37]\", line 2, characters 27-44\nCalled from factorial in file \"[37]\", line 2, characters 27-44\nCalled from factorial in file \"[37]\", line 2, characters 27-44\nCalled from factorial in file \"[37]\", line 2, characters 27-44\nCalled from factorial in file \"[37]\", line 2, characters 27-44\nCalled from factorial in file \"[37]\", line 2, characters 27-44\nCalled from factorial in file \"[37]\", line 2, characters 27-44\nCalled from factorial in file \"[37]\", line 2, characters 27-44\nCalled from factorial in file \"[37]\", line 2, characters 27-44\nCalled from factorial in file \"[37]\", line 2, characters 27-44\nCalled from factorial in file \"[37]\", line 2, characters 27-44\nCalled from factorial in file \"[37]\", line 2, characters 27-44\nCalled from factorial in file \"[37]\", line 2, characters 27-44\nCalled from factorial in file \"[37]\", line 2, characters 27-44\nCalled from factorial in file \"[37]\", line 2, characters 27-44\nCalled from factorial in file \"[37]\", line 2, characters 27-44\nCalled from factorial in file \"[37]\", line 2, characters 27-44\nCalled from factorial in file \"[37]\", line 2, characters 27-44\nCalled from factorial in file \"[37]\", line 2, characters 27-44\nCalled from factorial in file \"[37]\", line 2, characters 27-44\nCalled from factorial in file \"[37]\", line 2, characters 27-44\nCalled from factorial in file \"[37]\", line 2, characters 27-44\nCalled from factorial in file \"[37]\", line 2, characters 27-44\nCalled from factorial in file \"[37]\", line 2, characters 27-44\nCalled from factorial in file \"[37]\", line 2, characters 27-44\nCalled from factorial in file \"[37]\", line 2, characters 27-44\nCalled from factorial in file \"[37]\", line 2, characters 27-44\nCalled from factorial in file \"[37]\", line 2, characters 27-44\nCalled from factorial in file \"[37]\", line 2, characters 27-44\nCalled from factorial in file \"[37]\", line 2, characters 27-44\nCalled from factorial in file \"[37]\", line 2, characters 27-44\nCalled from factorial in file \"[37]\", line 2, characters 27-44\nCalled from factorial in file \"[37]\", line 2, characters 27-44\nCalled from factorial in file \"[37]\", line 2, characters 27-44\nCalled from factorial in file \"[37]\", line 2, characters 27-44\nCalled from factorial in file \"[37]\", line 2, characters 27-44\nCalled from factorial in file \"[37]\", line 2, characters 27-44\nCalled from factorial in file \"[37]\", line 2, characters 27-44\nCalled from factorial in file \"[37]\", line 2, characters 27-44\nCalled from factorial in file \"[37]\", line 2, characters 27-44\nCalled from factorial in file \"[37]\", line 2, characters 27-44\nCalled from factorial in file \"[37]\", line 2, characters 27-44\nCalled from factorial in file \"[37]\", line 2, characters 27-44\nCalled from factorial in file \"[37]\", line 2, characters 27-44\nCalled from factorial in file \"[37]\", line 2, characters 27-44\nCalled from factorial in file \"[37]\", line 2, characters 27-44\nCalled from factorial in file \"[37]\", line 2, characters 27-44\nCalled from factorial in file \"[37]\", line 2, characters 27-44\nCalled from factorial in file \"[37]\", line 2, characters 27-44\nCalled from factorial in file \"[37]\", line 2, characters 27-44\nCalled from factorial in file \"[37]\", line 2, characters 27-44\nCalled from factorial in file \"[37]\", line 2, characters 27-44\nCalled from factorial in file \"[37]\", line 2, characters 27-44\nCalled from factorial in file \"[37]\", line 2, characters 27-44\nCalled from factorial in file \"[37]\", line 2, characters 27-44\nCalled from factorial in file \"[37]\", line 2, characters 27-44\nCalled from factorial in file \"[37]\", line 2, characters 27-44\nCalled from factorial in file \"[37]\", line 2, characters 27-44\nCalled from factorial in file \"[37]\", line 2, characters 27-44\nCalled from factorial in file \"[37]\", line 2, characters 27-44\nCalled from factorial in file \"[37]\", line 2, characters 27-44\nCalled from factorial in file \"[37]\", line 2, characters 27-44\nCalled from factorial in file \"[37]\", line 2, characters 27-44\nCalled from factorial in file \"[37]\", line 2, characters 27-44\nCalled from factorial in file \"[37]\", line 2, characters 27-44\nCalled from factorial in file \"[37]\", line 2, characters 27-44\nCalled from factorial in file \"[37]\", line 2, characters 27-44\nCalled from factorial in file \"[37]\", line 2, characters 27-44\nCalled from factorial in file \"[37]\", line 2, characters 27-44\nCalled from factorial in file \"[37]\", line 2, characters 27-44\nCalled from factorial in file \"[37]\", line 2, characters 27-44\nCalled from factorial in file \"[37]\", line 2, characters 27-44\nCalled from factorial in file \"[37]\", line 2, characters 27-44\nCalled from factorial in file \"[37]\", line 2, characters 27-44\nCalled from factorial in file \"[37]\", line 2, characters 27-44\nCalled from factorial in file \"[37]\", line 2, characters 27-44\nCalled from factorial in file \"[37]\", line 2, characters 27-44\nCalled from factorial in file \"[37]\", line 2, characters 27-44\nCalled from factorial in file \"[37]\", line 2, characters 27-44\nCalled from factorial in file \"[37]\", line 2, characters 27-44\nCalled from factorial in file \"[37]\", line 2, characters 27-44\nCalled from factorial in file \"[37]\", line 2, characters 27-44\nCalled from factorial in file \"[37]\", line 2, characters 27-44\nCalled from factorial in file \"[37]\", line 2, characters 27-44\nCalled from factorial in file \"[37]\", line 2, characters 27-44\nCalled from factorial in file \"[37]\", line 2, characters 27-44\nCalled from factorial in file \"[37]\", line 2, characters 27-44\nCalled from factorial in file \"[37]\", line 2, characters 27-44\nCalled from factorial in file \"[37]\", line 2, characters 27-44\nCalled from factorial in file \"[37]\", line 2, characters 27-44\nCalled from factorial in file \"[37]\", line 2, characters 27-44\nCalled from factorial in file \"[37]\", line 2, characters 27-44\nCalled from factorial in file \"[37]\", line 2, characters 27-44\nCalled from factorial in file \"[37]\", line 2, characters 27-44\nCalled from factorial in file \"[37]\", line 2, characters 27-44\nCalled from factorial in file \"[37]\", line 2, characters 27-44\nCalled from factorial in file \"[37]\", line 2, characters 27-44\nCalled from factorial in file \"[37]\", line 2, characters 27-44\nCalled from factorial in file \"[37]\", line 2, characters 27-44\nCalled from factorial in file \"[37]\", line 2, characters 27-44\nCalled from factorial in file \"[37]\", line 2, characters 27-44\nCalled from factorial in file \"[37]\", line 2, characters 27-44\nCalled from factorial in file \"[37]\", line 2, characters 27-44\nCalled from factorial in file \"[37]\", line 2, characters 27-44\nCalled from factorial in file \"[37]\", line 2, characters 27-44\nCalled from factorial in file \"[37]\", line 2, characters 27-44\nCalled from factorial in file \"[37]\", line 2, characters 27-44\nCalled from factorial in file \"[37]\", line 2, characters 27-44\nCalled from factorial in file \"[37]\", line 2, characters 27-44\nCalled from factorial in file \"[37]\", line 2, characters 27-44\nCalled from factorial in file \"[37]\", line 2, characters 27-44\nCalled from factorial in file \"[37]\", line 2, characters 27-44\nCalled from factorial in file \"[37]\", line 2, characters 27-44\nCalled from factorial in file \"[37]\", line 2, characters 27-44\nCalled from factorial in file \"[37]\", line 2, characters 27-44\nCalled from factorial in file \"[37]\", line 2, characters 27-44\nCalled from factorial in file \"[37]\", line 2, characters 27-44\nCalled from factorial in file \"[37]\", line 2, characters 27-44\nCalled from factorial in file \"[37]\", line 2, characters 27-44\nCalled from factorial in file \"[37]\", line 2, characters 27-44\nCalled from factorial in file \"[37]\", line 2, characters 27-44\nCalled from factorial in file \"[37]\", line 2, characters 27-44\nCalled from factorial in file \"[37]\", line 2, characters 27-44\nCalled from factorial in file \"[37]\", line 2, characters 27-44\nCalled from factorial in file \"[37]\", line 2, characters 27-44\nCalled from factorial in file \"[37]\", line 2, characters 27-44\nCalled from factorial in file \"[37]\", line 2, characters 27-44\nCalled from factorial in file \"[37]\", line 2, characters 27-44\nCalled from factorial in file \"[37]\", line 2, characters 27-44\nCalled from factorial in file \"[37]\", line 2, characters 27-44\nCalled from factorial in file \"[37]\", line 2, characters 27-44\nCalled from factorial in file \"[37]\", line 2, characters 27-44\nCalled from factorial in file \"[37]\", line 2, characters 27-44\nCalled from factorial in file \"[37]\", line 2, characters 27-44\nCalled from factorial in file \"[37]\", line 2, characters 27-44\nCalled from factorial in file \"[37]\", line 2, characters 27-44\nCalled from factorial in file \"[37]\", line 2, characters 27-44\nCalled from factorial in file \"[37]\", line 2, characters 27-44\nCalled from factorial in file \"[37]\", line 2, characters 27-44\nCalled from factorial in file \"[37]\", line 2, characters 27-44\nCalled from factorial in file \"[37]\", line 2, characters 27-44\nCalled from factorial in file \"[37]\", line 2, characters 27-44\nCalled from factorial in file \"[37]\", line 2, characters 27-44\nCalled from factorial in file \"[37]\", line 2, characters 27-44\nCalled from factorial in file \"[37]\", line 2, characters 27-44\nCalled from factorial in file \"[37]\", line 2, characters 27-44\nCalled from factorial in file \"[37]\", line 2, characters 27-44\nCalled from factorial in file \"[37]\", line 2, characters 27-44\nCalled from factorial in file \"[37]\", line 2, characters 27-44\nCalled from factorial in file \"[37]\", line 2, characters 27-44\nCalled from factorial in file \"[37]\", line 2, characters 27-44\nCalled from factorial in file \"[37]\", line 2, characters 27-44\nCalled from factorial in file \"[37]\", line 2, characters 27-44\nCalled from factorial in file \"[37]\", line 2, characters 27-44\nCalled from factorial in file \"[37]\", line 2, characters 27-44\nCalled from factorial in file \"[37]\", line 2, characters 27-44\nCalled from factorial in file \"[37]\", line 2, characters 27-44\nCalled from factorial in file \"[37]\", line 2, characters 27-44\nCalled from factorial in file \"[37]\", line 2, characters 27-44\nCalled from factorial in file \"[37]\", line 2, characters 27-44\nCalled from factorial in file \"[37]\", line 2, characters 27-44\nCalled from factorial in file \"[37]\", line 2, characters 27-44\nCalled from factorial in file \"[37]\", line 2, characters 27-44\nCalled from factorial in file \"[37]\", line 2, characters 27-44\nCalled from factorial in file \"[37]\", line 2, characters 27-44\nCalled from factorial in file \"[37]\", line 2, characters 27-44\nCalled from factorial in file \"[37]\", line 2, characters 27-44\nCalled from factorial in file \"[37]\", line 2, characters 27-44\nCalled from factorial in file \"[37]\", line 2, characters 27-44\nCalled from factorial in file \"[37]\", line 2, characters 27-44\nCalled from factorial in file \"[37]\", line 2, characters 27-44\nCalled from factorial in file \"[37]\", line 2, characters 27-44\nCalled from factorial in file \"[37]\", line 2, characters 27-44\nCalled from factorial in file \"[37]\", line 2, characters 27-44\nCalled from factorial in file \"[37]\", line 2, characters 27-44\nCalled from factorial in file \"[37]\", line 2, characters 27-44\nCalled from factorial in file \"[37]\", line 2, characters 27-44\nCalled from factorial in file \"[37]\", line 2, characters 27-44\nCalled from factorial in file \"[37]\", line 2, characters 27-44\nCalled from factorial in file \"[37]\", line 2, characters 27-44\nCalled from factorial in file \"[37]\", line 2, characters 27-44\nCalled from factorial in file \"[37]\", line 2, characters 27-44\nCalled from factorial in file \"[37]\", line 2, characters 27-44\nCalled from factorial in file \"[37]\", line 2, characters 27-44\nCalled from factorial in file \"[37]\", line 2, characters 27-44\nCalled from factorial in file \"[37]\", line 2, characters 27-44\nCalled from factorial in file \"[37]\", line 2, characters 27-44\nCalled from factorial in file \"[37]\", line 2, characters 27-44\nCalled from factorial in file \"[37]\", line 2, characters 27-44\nCalled from factorial in file \"[37]\", line 2, characters 27-44\nCalled from factorial in file \"[37]\", line 2, characters 27-44\nCalled from factorial in file \"[37]\", line 2, characters 27-44\nCalled from factorial in file \"[37]\", line 2, characters 27-44\nCalled from factorial in file \"[37]\", line 2, characters 27-44\nCalled from factorial in file \"[37]\", line 2, characters 27-44\nCalled from factorial in file \"[37]\", line 2, characters 27-44\nCalled from factorial in file \"[37]\", line 2, characters 27-44\nCalled from factorial in file \"[37]\", line 2, characters 27-44\nCalled from factorial in file \"[37]\", line 2, characters 27-44\nCalled from factorial in file \"[37]\", line 2, characters 27-44\nCalled from factorial in file \"[37]\", line 2, characters 27-44\nCalled from factorial in file \"[37]\", line 2, characters 27-44\nCalled from factorial in file \"[37]\", line 2, characters 27-44\nCalled from factorial in file \"[37]\", line 2, characters 27-44\nCalled from factorial in file \"[37]\", line 2, characters 27-44\nCalled from factorial in file \"[37]\", line 2, characters 27-44\nCalled from factorial in file \"[37]\", line 2, characters 27-44\nCalled from factorial in file \"[37]\", line 2, characters 27-44\nCalled from factorial in file \"[37]\", line 2, characters 27-44\nCalled from factorial in file \"[37]\", line 2, characters 27-44\nCalled from factorial in file \"[37]\", line 2, characters 27-44\nCalled from factorial in file \"[37]\", line 2, characters 27-44\nCalled from factorial in file \"[37]\", line 2, characters 27-44\nCalled from factorial in file \"[37]\", line 2, characters 27-44\nCalled from factorial in file \"[37]\", line 2, characters 27-44\nCalled from factorial in file \"[37]\", line 2, characters 27-44\nCalled from factorial in file \"[37]\", line 2, characters 27-44\nCalled from factorial in file \"[37]\", line 2, characters 27-44\nCalled from factorial in file \"[37]\", line 2, characters 27-44\nCalled from factorial in file \"[37]\", line 2, characters 27-44\nCalled from factorial in file \"[37]\", line 2, characters 27-44\nCalled from factorial in file \"[37]\", line 2, characters 27-44\nCalled from factorial in file \"[37]\", line 2, characters 27-44\nCalled from factorial in file \"[37]\", line 2, characters 27-44\nCalled from factorial in file \"[37]\", line 2, characters 27-44\nCalled from factorial in file \"[37]\", line 2, characters 27-44\nCalled from factorial in file \"[37]\", line 2, characters 27-44\nCalled from factorial in file \"[37]\", line 2, characters 27-44\nCalled from factorial in file \"[37]\", line 2, characters 27-44\nCalled from factorial in file \"[37]\", line 2, characters 27-44\nCalled from factorial in file \"[37]\", line 2, characters 27-44\nCalled from factorial in file \"[37]\", line 2, characters 27-44\nCalled from factorial in file \"[37]\", line 2, characters 27-44\nCalled from factorial in file \"[37]\", line 2, characters 27-44\nCalled from factorial in file \"[37]\", line 2, characters 27-44\nCalled from factorial in file \"[37]\", line 2, characters 27-44\nCalled from factorial in file \"[37]\", line 2, characters 27-44\nCalled from factorial in file \"[37]\", line 2, characters 27-44\nCalled from factorial in file \"[37]\", line 2, characters 27-44\nCalled from factorial in file \"[37]\", line 2, characters 27-44\nCalled from factorial in file \"[37]\", line 2, characters 27-44\nCalled from factorial in file \"[37]\", line 2, characters 27-44\nCalled from factorial in file \"[37]\", line 2, characters 27-44\nCalled from factorial in file \"[37]\", line 2, characters 27-44\nCalled from factorial in file \"[37]\", line 2, characters 27-44\nCalled from factorial in file \"[37]\", line 2, characters 27-44\nCalled from factorial in file \"[37]\", line 2, characters 27-44\nCalled from factorial in file \"[37]\", line 2, characters 27-44\nCalled from factorial in file \"[37]\", line 2, characters 27-44\nCalled from factorial in file \"[37]\", line 2, characters 27-44\nCalled from factorial in file \"[37]\", line 2, characters 27-44\nCalled from factorial in file \"[37]\", line 2, characters 27-44\nCalled from factorial in file \"[37]\", line 2, characters 27-44\nCalled from factorial in file \"[37]\", line 2, characters 27-44\nCalled from factorial in file \"[37]\", line 2, characters 27-44\nCalled from factorial in file \"[37]\", line 2, characters 27-44\nCalled from factorial in file \"[37]\", line 2, characters 27-44\nCalled from factorial in file \"[37]\", line 2, characters 27-44\nCalled from factorial in file \"[37]\", line 2, characters 27-44\nCalled from factorial in file \"[37]\", line 2, characters 27-44\nCalled from factorial in file \"[37]\", line 2, characters 27-44\nCalled from factorial in file \"[37]\", line 2, characters 27-44\nCalled from factorial in file \"[37]\", line 2, characters 27-44\nCalled from factorial in file \"[37]\", line 2, characters 27-44\nCalled from factorial in file \"[37]\", line 2, characters 27-44\nCalled from factorial in file \"[37]\", line 2, characters 27-44\nCalled from factorial in file \"[37]\", line 2, characters 27-44\nCalled from factorial in file \"[37]\", line 2, characters 27-44\nCalled from factorial in file \"[37]\", line 2, characters 27-44\nCalled from factorial in file \"[37]\", line 2, characters 27-44\nCalled from factorial in file \"[37]\", line 2, characters 27-44\nCalled from factorial in file \"[37]\", line 2, characters 27-44\nCalled from factorial in file \"[37]\", line 2, characters 27-44\nCalled from factorial in file \"[37]\", line 2, characters 27-44\nCalled from factorial in file \"[37]\", line 2, characters 27-44\nCalled from factorial in file \"[37]\", line 2, characters 27-44\nCalled from factorial in file \"[37]\", line 2, characters 27-44\nCalled from factorial in file \"[37]\", line 2, characters 27-44\nCalled from factorial in file \"[37]\", line 2, characters 27-44\nCalled from factorial in file \"[37]\", line 2, characters 27-44\nCalled from factorial in file \"[37]\", line 2, characters 27-44\nCalled from factorial in file \"[37]\", line 2, characters 27-44\nCalled from factorial in file \"[37]\", line 2, characters 27-44\nCalled from factorial in file \"[37]\", line 2, characters 27-44\nCalled from factorial in file \"[37]\", line 2, characters 27-44\nCalled from factorial in file \"[37]\", line 2, characters 27-44\nCalled from factorial in file \"[37]\", line 2, characters 27-44\nCalled from factorial in file \"[37]\", line 2, characters 27-44\nCalled from factorial in file \"[37]\", line 2, characters 27-44\nCalled from factorial in file \"[37]\", line 2, characters 27-44\nCalled from factorial in file \"[37]\", line 2, characters 27-44\nCalled from factorial in file \"[37]\", line 2, characters 27-44\nCalled from factorial in file \"[37]\", line 2, characters 27-44\nCalled from factorial in file \"[37]\", line 2, characters 27-44\nCalled from factorial in file \"[37]\", line 2, characters 27-44\nCalled from factorial in file \"[37]\", line 2, characters 27-44\nCalled from factorial in file \"[37]\", line 2, characters 27-44\nCalled from factorial in file \"[37]\", line 2, characters 27-44\nCalled from factorial in file \"[37]\", line 2, characters 27-44\nCalled from factorial in file \"[37]\", line 2, characters 27-44\nCalled from factorial in file \"[37]\", line 2, characters 27-44\nCalled from factorial in file \"[37]\", line 2, characters 27-44\nCalled from factorial in file \"[37]\", line 2, characters 27-44\nCalled from factorial in file \"[37]\", line 2, characters 27-44\nCalled from factorial in file \"[37]\", line 2, characters 27-44\nCalled from factorial in file \"[37]\", line 2, characters 27-44\nCalled from factorial in file \"[37]\", line 2, characters 27-44\nCalled from factorial in file \"[37]\", line 2, characters 27-44\nCalled from factorial in file \"[37]\", line 2, characters 27-44\nCalled from factorial in file \"[37]\", line 2, characters 27-44\nCalled from factorial in file \"[37]\", line 2, characters 27-44\nCalled from factorial in file \"[37]\", line 2, characters 27-44\nCalled from factorial in file \"[37]\", line 2, characters 27-44\nCalled from factorial in file \"[37]\", line 2, characters 27-44\nCalled from factorial in file \"[37]\", line 2, characters 27-44\nCalled from factorial in file \"[37]\", line 2, characters 27-44\nCalled from factorial in file \"[37]\", line 2, characters 27-44\nCalled from factorial in file \"[37]\", line 2, characters 27-44\nCalled from factorial in file \"[37]\", line 2, characters 27-44\nCalled from factorial in file \"[37]\", line 2, characters 27-44\nCalled from factorial in file \"[37]\", line 2, characters 27-44\nCalled from factorial in file \"[37]\", line 2, characters 27-44\nCalled from factorial in file \"[37]\", line 2, characters 27-44\nCalled from factorial in file \"[37]\", line 2, characters 27-44\nCalled from factorial in file \"[37]\", line 2, characters 27-44\nCalled from factorial in file \"[37]\", line 2, characters 27-44\nCalled from factorial in file \"[37]\", line 2, characters 27-44\nCalled from factorial in file \"[37]\", line 2, characters 27-44\nCalled from factorial in file \"[37]\", line 2, characters 27-44\nCalled from factorial in file \"[37]\", line 2, characters 27-44\nCalled from factorial in file \"[37]\", line 2, characters 27-44\nCalled from factorial in file \"[37]\", line 2, characters 27-44\nCalled from factorial in file \"[37]\", line 2, characters 27-44\nCalled from factorial in file \"[37]\", line 2, characters 27-44\nCalled from factorial in file \"[37]\", line 2, characters 27-44\nCalled from factorial in file \"[37]\", line 2, characters 27-44\nCalled from factorial in file \"[37]\", line 2, characters 27-44\nCalled from factorial in file \"[37]\", line 2, characters 27-44\nCalled from factorial in file \"[37]\", line 2, characters 27-44\nCalled from factorial in file \"[37]\", line 2, characters 27-44\nCalled from factorial in file \"[37]\", line 2, characters 27-44\nCalled from factorial in file \"[37]\", line 2, characters 27-44\nCalled from factorial in file \"[37]\", line 2, characters 27-44\nCalled from factorial in file \"[37]\", line 2, characters 27-44\nCalled from factorial in file \"[37]\", line 2, characters 27-44\nCalled from factorial in file \"[37]\", line 2, characters 27-44\nCalled from factorial in file \"[37]\", line 2, characters 27-44\nCalled from factorial in file \"[37]\", line 2, characters 27-44\nCalled from factorial in file \"[37]\", line 2, characters 27-44\nCalled from factorial in file \"[37]\", line 2, characters 27-44\nCalled from factorial in file \"[37]\", line 2, characters 27-44\nCalled from factorial in file \"[37]\", line 2, characters 27-44\nCalled from factorial in file \"[37]\", line 2, characters 27-44\nCalled from factorial in file \"[37]\", line 2, characters 27-44\nCalled from factorial in file \"[37]\", line 2, characters 27-44\nCalled from factorial in file \"[37]\", line 2, characters 27-44\nCalled from factorial in file \"[37]\", line 2, characters 27-44\nCalled from factorial in file \"[37]\", line 2, characters 27-44\nCalled from factorial in file \"[37]\", line 2, characters 27-44\nCalled from factorial in file \"[37]\", line 2, characters 27-44\nCalled from factorial in file \"[37]\", line 2, characters 27-44\nCalled from factorial in file \"[37]\", line 2, characters 27-44\nCalled from factorial in file \"[37]\", line 2, characters 27-44\nCalled from factorial in file \"[37]\", line 2, characters 27-44\nCalled from factorial in file \"[37]\", line 2, characters 27-44\nCalled from factorial in file \"[37]\", line 2, characters 27-44\nCalled from factorial in file \"[37]\", line 2, characters 27-44\nCalled from factorial in file \"[37]\", line 2, characters 27-44\nCalled from factorial in file \"[37]\", line 2, characters 27-44\nCalled from factorial in file \"[37]\", line 2, characters 27-44\nCalled from factorial in file \"[37]\", line 2, characters 27-44\nCalled from factorial in file \"[37]\", line 2, characters 27-44\n\u001b[0m"
     ]
    }
   ],
   "source": [
    "factorial (-1)"
   ]
  },
  {
   "cell_type": "markdown",
   "id": "0e100cbe-ea0c-47f3-9ed8-ef2feadb7674",
   "metadata": {},
   "source": [
    "The built-in `not` function returns the boolean complement of its argument:"
   ]
  },
  {
   "cell_type": "code",
   "execution_count": 39,
   "id": "776a8356-8398-4165-89cb-c936bba0be7c",
   "metadata": {
    "tags": []
   },
   "outputs": [
    {
     "data": {
      "text/plain": [
       "- : bool = true\n"
      ]
     },
     "execution_count": 39,
     "metadata": {},
     "output_type": "execute_result"
    }
   ],
   "source": [
    "not false"
   ]
  },
  {
   "cell_type": "markdown",
   "id": "a28a1b4e-d955-4261-bcd4-1af140f870d2",
   "metadata": {},
   "source": [
    "> Write a function which returns true if both of its arguments are non-zero, and false otherwise. What is the type of your function? (Whitington)"
   ]
  },
  {
   "cell_type": "code",
   "execution_count": 40,
   "id": "c47372e1-7aa5-42ab-9897-f6614155b9e3",
   "metadata": {
    "tags": []
   },
   "outputs": [
    {
     "data": {
      "text/plain": [
       "val f : int -> int -> bool = <fun>\n"
      ]
     },
     "execution_count": 40,
     "metadata": {},
     "output_type": "execute_result"
    },
    {
     "data": {
      "text/plain": [
       "- : bool = false\n"
      ]
     },
     "execution_count": 40,
     "metadata": {},
     "output_type": "execute_result"
    },
    {
     "data": {
      "text/plain": [
       "- : bool = true\n"
      ]
     },
     "execution_count": 40,
     "metadata": {},
     "output_type": "execute_result"
    }
   ],
   "source": [
    "let f a b = if a <> 0 && b <> 0 then true else false ;;\n",
    "\n",
    "f 0 0 ;;\n",
    "f 1 9 ;;"
   ]
  },
  {
   "cell_type": "markdown",
   "id": "3c51710a-662f-46be-b550-8395f92b777a",
   "metadata": {},
   "source": [
    "While the type of this function is `int -> int -> bool`, it could infer `float -> float -> bool` instead if 0.0 were used:"
   ]
  },
  {
   "cell_type": "code",
   "execution_count": 41,
   "id": "3ff76aa2-80b5-43dd-b0a6-53f211f32ef0",
   "metadata": {
    "tags": []
   },
   "outputs": [
    {
     "data": {
      "text/plain": [
       "val f : float -> float -> bool = <fun>\n"
      ]
     },
     "execution_count": 41,
     "metadata": {},
     "output_type": "execute_result"
    }
   ],
   "source": [
    "let f a b = if a <> 0.0 && b <> 0.0 then true else false ;;"
   ]
  },
  {
   "cell_type": "markdown",
   "id": "d40c4ccd-f80d-4377-9a1e-6583570f5a45",
   "metadata": {},
   "source": [
    "### Pattern matching"
   ]
  },
  {
   "cell_type": "code",
   "execution_count": 42,
   "id": "8f06cd5d-0136-4086-a8d7-8a2242a24eac",
   "metadata": {
    "tags": []
   },
   "outputs": [
    {
     "data": {
      "text/plain": [
       "val isvowel : char -> bool = <fun>\n"
      ]
     },
     "execution_count": 42,
     "metadata": {},
     "output_type": "execute_result"
    },
    {
     "data": {
      "text/plain": [
       "- : bool = false\n"
      ]
     },
     "execution_count": 42,
     "metadata": {},
     "output_type": "execute_result"
    },
    {
     "data": {
      "text/plain": [
       "- : bool = true\n"
      ]
     },
     "execution_count": 42,
     "metadata": {},
     "output_type": "execute_result"
    }
   ],
   "source": [
    "let isvowel c =\n",
    "  match c with\n",
    "    'a' | 'e' | 'i' | 'o' | 'u' -> true\n",
    "  | _ -> false ;;\n",
    "\n",
    "isvowel 'j' ;;\n",
    "isvowel 'u' ;;"
   ]
  },
  {
   "cell_type": "markdown",
   "id": "08ce38a4-bdf0-4956-90ad-ec1220e927ca",
   "metadata": {},
   "source": [
    "## Data Structures"
   ]
  },
  {
   "cell_type": "markdown",
   "id": "fd6cddff-5406-4c2e-9f74-9bf543b8b4d3",
   "metadata": {},
   "source": [
    "### Lists"
   ]
  },
  {
   "cell_type": "code",
   "execution_count": 43,
   "id": "e3cafa83-48bb-4d5c-8ff8-626ba3760ce7",
   "metadata": {
    "tags": []
   },
   "outputs": [
    {
     "data": {
      "text/plain": [
       "val l : int list = [1; 2; 3]\n"
      ]
     },
     "execution_count": 43,
     "metadata": {},
     "output_type": "execute_result"
    }
   ],
   "source": [
    "let l = [ 1; 2; 3; ]"
   ]
  },
  {
   "cell_type": "markdown",
   "id": "ba2f0bef-00bf-4c67-81cd-0aa6ed19d629",
   "metadata": {},
   "source": [
    "The empty list, also called _nil_, is represented as `[]` and is of undertermined type $\\alpha$ (`'a`)."
   ]
  },
  {
   "cell_type": "code",
   "execution_count": 44,
   "id": "6bfd6688-a6e3-46eb-9838-56115e89c57d",
   "metadata": {
    "tags": []
   },
   "outputs": [
    {
     "data": {
      "text/plain": [
       "- : 'a list = []\n"
      ]
     },
     "execution_count": 44,
     "metadata": {},
     "output_type": "execute_result"
    }
   ],
   "source": [
    "[]"
   ]
  },
  {
   "cell_type": "markdown",
   "id": "a49f68c8-da84-47f8-89fd-559469347e39",
   "metadata": {},
   "source": [
    "All non-empty lists have a head (its first element) and a tail. A list with a single element has this element as its head and `[]` as its tail."
   ]
  },
  {
   "cell_type": "markdown",
   "id": "c3633c1d-17de-4f69-a0ed-f20a4d0787fa",
   "metadata": {},
   "source": [
    "The _cons_ operator, `::` , adds a single element to the front of the list:"
   ]
  },
  {
   "cell_type": "code",
   "execution_count": 45,
   "id": "fcf5f0a7-ff61-41ff-bde7-93e2142dba8a",
   "metadata": {
    "tags": []
   },
   "outputs": [
    {
     "data": {
      "text/plain": [
       "- : int list = [0; 1; 2; 3]\n"
      ]
     },
     "execution_count": 45,
     "metadata": {},
     "output_type": "execute_result"
    }
   ],
   "source": [
    "0 :: l"
   ]
  },
  {
   "cell_type": "markdown",
   "id": "203b36da-4be4-48e1-93a5-b8e65db0c843",
   "metadata": {},
   "source": [
    "The _append_ operator, `@` , combines two lists together:"
   ]
  },
  {
   "cell_type": "code",
   "execution_count": 46,
   "id": "dc798339-787b-4111-9abe-f9feaa1bfa0b",
   "metadata": {
    "tags": []
   },
   "outputs": [
    {
     "data": {
      "text/plain": [
       "val m : int list = [4; 5; 6]\n"
      ]
     },
     "execution_count": 46,
     "metadata": {},
     "output_type": "execute_result"
    },
    {
     "data": {
      "text/plain": [
       "val n : int list = [1; 2; 3; 4; 5; 6]\n"
      ]
     },
     "execution_count": 46,
     "metadata": {},
     "output_type": "execute_result"
    }
   ],
   "source": [
    "let m = [ 4; 5; 6; ] ;;\n",
    "\n",
    "let n = l @ m"
   ]
  },
  {
   "cell_type": "markdown",
   "id": "e545e255-9138-4b9b-b313-9bd387aff561",
   "metadata": {},
   "source": [
    "#### Pattern matching with lists"
   ]
  },
  {
   "cell_type": "code",
   "execution_count": 47,
   "id": "1eefdd4c-4aad-4a6b-8321-f2480553bf93",
   "metadata": {
    "tags": []
   },
   "outputs": [
    {
     "data": {
      "text/plain": [
       "val isnil : 'a list -> bool = <fun>\n"
      ]
     },
     "execution_count": 47,
     "metadata": {},
     "output_type": "execute_result"
    }
   ],
   "source": [
    "let isnil l = \n",
    "  match l with\n",
    "    [] -> true\n",
    "  | _ -> false"
   ]
  },
  {
   "cell_type": "markdown",
   "id": "65b305fb-0549-4699-bb77-568b50d614b3",
   "metadata": {},
   "source": [
    "> The argument has type α list (which OCaml prints on the screen as `’a` list) because this function does not inspect the individual elements of the list, it just checks if the list is empty. And so, this function can operate over any type of list.\n",
    "\n",
    "> The greek letters α, β, γ etc. stand for any type. If two types are represented by the same greek letter they must have the same type. If they are not, they may have the same type, but do not have to. Functions like this are known as polymorphic. (Whitington)"
   ]
  },
  {
   "cell_type": "markdown",
   "id": "dbbbc607-0df2-4de6-8074-657542a37e37",
   "metadata": {},
   "source": [
    "The `::` operator can be used in pattern matching to deconstruct a list where in `h::t` you will obtain the head of the list assigned to `h` and the tail to `t`.:"
   ]
  },
  {
   "cell_type": "code",
   "execution_count": 48,
   "id": "cb2d9e7e-27c2-4b26-8b0a-4af9629d1c83",
   "metadata": {
    "tags": []
   },
   "outputs": [
    {
     "data": {
      "text/plain": [
       "val list : int list = [1; 2; 3]\n"
      ]
     },
     "execution_count": 48,
     "metadata": {},
     "output_type": "execute_result"
    },
    {
     "data": {
      "text/plain": [
       "val length : 'a list -> int = <fun>\n"
      ]
     },
     "execution_count": 48,
     "metadata": {},
     "output_type": "execute_result"
    }
   ],
   "source": [
    "let list = [ 1; 2; 3; ] ;;\n",
    "\n",
    "let rec length l =\n",
    "  match l with\n",
    "    [] -> 0\n",
    "  | _::t -> 1 + length t"
   ]
  },
  {
   "cell_type": "code",
   "execution_count": 49,
   "id": "6fe81fde-6a86-4517-9722-bcb859e28956",
   "metadata": {
    "tags": []
   },
   "outputs": [
    {
     "data": {
      "text/plain": [
       "- : int = 3\n"
      ]
     },
     "execution_count": 49,
     "metadata": {},
     "output_type": "execute_result"
    }
   ],
   "source": [
    "length list"
   ]
  },
  {
   "cell_type": "markdown",
   "id": "bba63ed7-b59e-4c7d-b91e-a1926fdd5fe9",
   "metadata": {},
   "source": [
    "The above evaluates as follows:"
   ]
  },
  {
   "cell_type": "raw",
   "id": "714006e9-8fbd-4a1f-be2c-ef5a8229662c",
   "metadata": {
    "tags": []
   },
   "source": [
    "    length [ 1; 2; 3; ]\n",
    "=>  1 + length [ 2; 3; ]\n",
    "=>  1 + (1 + length [3])\n",
    "=>  1 + (1 + (1 + length []))\n",
    "=>  1 + (1 + (1 + 0))\n",
    "=>  1 + (1 + 1)\n",
    "=>  1 + 2\n",
    "=>  3"
   ]
  },
  {
   "cell_type": "markdown",
   "id": "097bf5a5-2a02-4dad-92a6-b57439f8c0d6",
   "metadata": {
    "tags": []
   },
   "source": [
    "## References"
   ]
  },
  {
   "cell_type": "markdown",
   "id": "1102fd2c-ee06-4c15-979d-eff24818f24f",
   "metadata": {},
   "source": [
    "Most of the examples used above are either from or adapted from John Whitington's OCaml from the Very Beginning, which is available online, for no cost, in a wonderful single-page HTML version."
   ]
  },
  {
   "cell_type": "markdown",
   "id": "66945db3-7669-4a19-a8fc-712b160050ed",
   "metadata": {},
   "source": [
    "- [John Whitington - OCaml from the Very Beginning](https://johnwhitington.net/ocamlfromtheverybeginning/)\n",
    "- [OCaml Documentation - Compiling OCaml Projects](https://ocaml.org/docs/compiling-ocaml-projects)\n",
    "- [OCaml Documentation - Basic Data Types and Pattern Matching](https://ocaml.org/docs/basic-data-types)\n",
    "- [OCaml Documentation - A Tour of OCaml](https://ocaml.org/docs/tour-of-ocaml)"
   ]
  }
 ],
 "metadata": {
  "kernelspec": {
   "display_name": "ocaml-minimal kernel",
   "language": "ocaml",
   "name": "ocaml-minimal"
  },
  "language_info": {
   "codemirror_mode": "text/x-ocaml",
   "file_extension": ".ml",
   "mimetype": "text/x-ocaml",
   "name": "OCaml",
   "nbconverter_exporter": null,
   "pygments_lexer": "OCaml",
   "version": "4.14.0"
  }
 },
 "nbformat": 4,
 "nbformat_minor": 5
}
