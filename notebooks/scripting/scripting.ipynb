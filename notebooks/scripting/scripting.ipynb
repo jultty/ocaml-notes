{
 "cells": [
  {
   "cell_type": "markdown",
   "id": "6270e719-86ab-4a2f-b95a-0f64731fa14a",
   "metadata": {},
   "source": [
    "# Scripting with OCaml"
   ]
  },
  {
   "cell_type": "markdown",
   "id": "4be2ab91-28a2-40c1-b64e-9d67b0722fc4",
   "metadata": {},
   "source": [
    "OCaml can be used for scripting without much setting up. A shebang at the start of an OCaml file is ignored. Single-file scripts still get to access opam-installed libraries. \n",
    "\n",
    "For this script, I used an `utop` shebang:"
   ]
  },
  {
   "cell_type": "markdown",
   "id": "79011c7c-8660-4401-9aa9-f6b64108cf23",
   "metadata": {},
   "source": [
    "```ocaml\n",
    "#!/usr/bin/env utop\n",
    "```"
   ]
  },
  {
   "cell_type": "markdown",
   "id": "b2879dc7-6585-4b33-b319-a3cb127dfed7",
   "metadata": {},
   "source": [
    "The goal here was to replace a simple bash function I used to edit scripts in my `PATH`:"
   ]
  },
  {
   "cell_type": "markdown",
   "id": "e8a119d7-34c3-4095-8c8f-dbda3df9e965",
   "metadata": {},
   "source": [
    "```bash\n",
    "function nvw {\n",
    "  args=()\n",
    "  for i in $@; do\n",
    "    if [[ -f $(which \"$i\") ]]; then\n",
    "      args+=\"$(which $i)\"\n",
    "    else\n",
    "      echo \"$i\" not found on PATH\n",
    "    fi\n",
    "  done\n",
    "\n",
    "  if [[ $args ]]; then\n",
    "    echo \"[nvw] Editing $args\"\n",
    "    nvim -p $args\n",
    "  fi\n",
    "}\n",
    "\n",
    "```"
   ]
  },
  {
   "cell_type": "markdown",
   "id": "2a4f0fdb-de5c-43d6-9f8f-d3416e7d7bf2",
   "metadata": {},
   "source": [
    "While this worked a intended, at some point I wanted the function to also stage the edited files and launch an editor for the commit message, so I added the following to the bottom:"
   ]
  },
  {
   "cell_type": "markdown",
   "id": "3d7b414a-1b18-4e43-a49a-15edcab56774",
   "metadata": {},
   "source": [
    "```bash\n",
    "for a in \"${args[*]}\"; do\n",
    "  dir=$(dirname $a)\n",
    "  cd $dir\n",
    "  git add \"$a\"\n",
    "  git commit -e -m \"$(basename $a): \"\n",
    "  cd -\n",
    "done\n",
    "```"
   ]
  },
  {
   "cell_type": "markdown",
   "id": "4f41b172-8cab-4786-9e76-0659a9a3b45b",
   "metadata": {},
   "source": [
    "The downside was that this didn't really check if the file had been changed at all. Adding this feature would further increase the function's complexity, so because I wanted to give OCaml scripting another try I started trying to implement it in OCaml. "
   ]
  },
  {
   "cell_type": "markdown",
   "id": "8c3f2509-8787-4e85-a687-d8e97652298f",
   "metadata": {},
   "source": [
    "## Choosing my weapons"
   ]
  },
  {
   "cell_type": "markdown",
   "id": "15c2abac-80ac-44a9-996d-2538954dde18",
   "metadata": {},
   "source": [
    "While searching online, I found several resources related to scripting:\n",
    "\n",
    "- [shexp v0.16.0 (latest) · OCaml Package](https://ocaml.org/p/shexp/latest/doc/Shexp_process/index.html)\n",
    "- [Cmdliner (cmdliner.Cmdliner)](https://erratique.ch/software/cmdliner/doc/Cmdliner/)\n",
    "- [Unix system programming in OCaml](http://ocaml.github.io/ocamlunix/)\n",
    "\n",
    "While `shexp` was the most popular, I couldn't find much documentation aside from the one linked above. `Cmdliner` seemed to have a bit more.\n",
    "\n",
    "In the end, I ended up choosing to use neither as it seems that a lot is possible using just the `Unix` and `Sys` modules that are provided by the OCaml API itself:"
   ]
  },
  {
   "cell_type": "code",
   "execution_count": 1,
   "id": "93dc13a5-0818-40eb-93f9-406b5ed768cc",
   "metadata": {},
   "outputs": [],
   "source": [
    "open Unix ;;\n",
    "open Sys ;;"
   ]
  },
  {
   "cell_type": "markdown",
   "id": "3a76e645-724f-40ce-be9f-48e936b244c4",
   "metadata": {},
   "source": [
    "## Utility functions"
   ]
  },
  {
   "cell_type": "markdown",
   "id": "ee42bff0-33fd-438c-82d2-1efff2448130",
   "metadata": {},
   "source": [
    "For no good reason other than toying with my first OCaml script, I wrote the following three functions in order to standardize output when logging for debug purposes."
   ]
  },
  {
   "cell_type": "code",
   "execution_count": 2,
   "id": "1bbf6573-74f7-4227-8c5f-4977e0a9a61c",
   "metadata": {},
   "outputs": [
    {
     "data": {
      "text/plain": [
       "val start : string -> unit = <fun>\n"
      ]
     },
     "execution_count": 2,
     "metadata": {},
     "output_type": "execute_result"
    },
    {
     "data": {
      "text/plain": [
       "val step : string -> unit = <fun>\n"
      ]
     },
     "execution_count": 2,
     "metadata": {},
     "output_type": "execute_result"
    }
   ],
   "source": [
    "let start s = print_endline (\"\\n,-< \" ^ s)\n",
    "let step s = print_endline (\"| \" ^ s)"
   ]
  },
  {
   "cell_type": "markdown",
   "id": "f595915e-e09e-47f3-a60e-5e940f109791",
   "metadata": {},
   "source": [
    "Writing this script, I used the `^` operator a lot, which concatenates strings together."
   ]
  },
  {
   "cell_type": "markdown",
   "id": "8575bf5a-3e62-4494-af08-d870b1d5c031",
   "metadata": {},
   "source": [
    "`start` prints a newline and `,-< ` before its message, `step` prints a `|` before its message and `finish` prints `'-> ` before its message.\n",
    "\n",
    "Combined, they allow output that looks like this:\n",
    "\n",
    "```\n",
    ",-< Generating hashes\n",
    "| 60ce0778b6d6ae5 ...\n",
    "| 9826a40a4966797 ...\n",
    "| eb509d241c7f22d ...\n",
    "'-> Done\n",
    "```"
   ]
  },
  {
   "cell_type": "code",
   "execution_count": 3,
   "id": "8774e1e0-fa22-42bb-bf7a-c4bc3413ee0d",
   "metadata": {},
   "outputs": [
    {
     "data": {
      "text/plain": [
       "val finish : ?s:string -> unit -> unit = <fun>\n"
      ]
     },
     "execution_count": 3,
     "metadata": {},
     "output_type": "execute_result"
    }
   ],
   "source": [
    "let finish ?(s = \"Done\") () = print_endline (\"'-> \" ^ s) ;;"
   ]
  },
  {
   "cell_type": "markdown",
   "id": "a91da33a-2192-4890-a1e1-fd008c018773",
   "metadata": {},
   "source": [
    "One useful thing I learned writing `finish`  was how to use optional arguments that have default parameter values. The `finish` method can be called with `()` as a single argument to print its default \"Done\" message, or with a custom one:"
   ]
  },
  {
   "cell_type": "code",
   "execution_count": 4,
   "id": "247c6c8e-5432-49fd-80e1-219b2b066cd6",
   "metadata": {},
   "outputs": [
    {
     "name": "stdout",
     "output_type": "stream",
     "text": [
      "'-> A custom message\n"
     ]
    },
    {
     "data": {
      "text/plain": [
       "- : unit = ()\n"
      ]
     },
     "execution_count": 4,
     "metadata": {},
     "output_type": "execute_result"
    }
   ],
   "source": [
    "finish ~s:\"A custom message\" () ;;"
   ]
  },
  {
   "cell_type": "code",
   "execution_count": 5,
   "id": "413d7c66-a7f4-4aa0-b7ac-68fd471930aa",
   "metadata": {},
   "outputs": [
    {
     "name": "stdout",
     "output_type": "stream",
     "text": [
      "'-> Done\n"
     ]
    },
    {
     "data": {
      "text/plain": [
       "- : unit = ()\n"
      ]
     },
     "execution_count": 5,
     "metadata": {},
     "output_type": "execute_result"
    }
   ],
   "source": [
    "finish () ;;"
   ]
  },
  {
   "cell_type": "markdown",
   "id": "2c65a077-475f-42eb-b165-f5d5b9372e4e",
   "metadata": {},
   "source": [
    "Next I define a few other utility functions."
   ]
  },
  {
   "cell_type": "code",
   "execution_count": 6,
   "id": "7a5dca99-e496-44be-8e79-74787f781658",
   "metadata": {},
   "outputs": [
    {
     "data": {
      "text/plain": [
       "val run : string -> string = <fun>\n"
      ]
     },
     "execution_count": 6,
     "metadata": {},
     "output_type": "execute_result"
    }
   ],
   "source": [
    "let run c = input_line (open_process_in c)"
   ]
  },
  {
   "cell_type": "markdown",
   "id": "f3b8572b-2c1e-4adf-8931-b5e9ac8f5f32",
   "metadata": {},
   "source": [
    "`run` reads into a string the output of a command `c` called by `open_process_in`. This avoids repetition every time the output of a command is needed."
   ]
  },
  {
   "cell_type": "code",
   "execution_count": 7,
   "id": "3566e309-dac8-4beb-bc5c-bfe5bb4d590c",
   "metadata": {},
   "outputs": [
    {
     "data": {
      "text/plain": [
       "val confirm : unit -> unit = <fun>\n"
      ]
     },
     "execution_count": 7,
     "metadata": {},
     "output_type": "execute_result"
    }
   ],
   "source": [
    "let confirm () = if (command \"gum confirm 'Continue?'\" != 0) then exit 0 else () "
   ]
  },
  {
   "cell_type": "markdown",
   "id": "8fd69ea0-3105-46ec-8535-486122d200a0",
   "metadata": {},
   "source": [
    "The confirm dialog leverages [Charm](https://charm.sh/)'s [`gum`](https://github.com/charmbracelet/gum), which I used in my previous scripts and wanted to see how well it would fit here.\n",
    "\n",
    "It prompts the user with a \"Continue? Yes/No\" dialog and exits the script if the answer is no."
   ]
  },
  {
   "cell_type": "markdown",
   "id": "485abd79-41f1-46f7-b4fb-6d8d0b1d03ec",
   "metadata": {},
   "source": [
    "## Argument parsing"
   ]
  },
  {
   "cell_type": "markdown",
   "id": "10f25785-856a-4ee5-95a0-eb70893435e1",
   "metadata": {},
   "source": [
    "Next comes the parsing of the received arguments. The first thing is discarding argument 0 (the script itself) and then converting that slice to a List:"
   ]
  },
  {
   "cell_type": "markdown",
   "id": "74092256-c576-4aa2-8097-6f6cad06602e",
   "metadata": {},
   "source": [
    "```ocaml\n",
    "let args = Array.to_list\n",
    "  (Array.sub Sys.argv 1 (Array.length Sys.argv - 1)) ;;\n",
    "```"
   ]
  },
  {
   "cell_type": "markdown",
   "id": "09eb43b1-dfd4-41ef-9b9e-e442e9472eab",
   "metadata": {},
   "source": [
    "Since this code runs in a Jupyter kernel, let's mock somefilepaths. The first one actually exists, the second doesn't:"
   ]
  },
  {
   "cell_type": "code",
   "execution_count": 8,
   "id": "e36097bf-dd0d-4f34-b8b9-b07d09fdf830",
   "metadata": {},
   "outputs": [
    {
     "data": {
      "text/plain": [
       "val args : string list = [\"/home/juno/.jj/bin/nvw\"; \"/x/y/z\"]\n"
      ]
     },
     "execution_count": 8,
     "metadata": {},
     "output_type": "execute_result"
    }
   ],
   "source": [
    "let args = [\"/home/juno/.jj/bin/nvw\"; \"/x/y/z\"]"
   ]
  },
  {
   "cell_type": "markdown",
   "id": "c7feb0f8-4d93-4e49-b266-d98c8c80efb8",
   "metadata": {},
   "source": [
    "## Path validation"
   ]
  },
  {
   "cell_type": "markdown",
   "id": "5562d6e5-c9b9-4558-a94e-7ed40c88a0d9",
   "metadata": {},
   "source": [
    "Because I will use `which` to get the absolute filepaths from the environment's `PATH` variable, I also decide to use it to filter out any paths that do not correspond to a file."
   ]
  },
  {
   "cell_type": "markdown",
   "id": "ca7b3d8f-98d5-4f1b-a76a-1f3d8a6af376",
   "metadata": {},
   "source": [
    "To achieve this, the following function will return `true` if the exit code is `0`, meaning the file exists and is on `PATH`."
   ]
  },
  {
   "cell_type": "code",
   "execution_count": 9,
   "id": "5be47c1c-6f64-4ac0-9be8-4260b2598e9e",
   "metadata": {},
   "outputs": [
    {
     "data": {
      "text/plain": [
       "val get_exit : string -> bool = <fun>\n"
      ]
     },
     "execution_count": 9,
     "metadata": {},
     "output_type": "execute_result"
    }
   ],
   "source": [
    "let get_exit c = command (\"which \" ^ c ^ \" > /dev/null\") = 0"
   ]
  },
  {
   "cell_type": "markdown",
   "id": "3afda1e3-046a-4ce2-ad03-74660417ed78",
   "metadata": {},
   "source": [
    "There might be a better way to discard stdout? I did not look into it."
   ]
  },
  {
   "cell_type": "markdown",
   "id": "880d711d-6416-4658-9618-b767f603d3d1",
   "metadata": {},
   "source": [
    "for the actual filtering, I use this pattern matching pattern based on an identical example [found in Cornell University's CS 3110 textbook](https://cs3110.github.io/textbook/chapters/hop/filter.html):"
   ]
  },
  {
   "cell_type": "code",
   "execution_count": 10,
   "id": "1a62eb91-1ae7-46c7-8c40-744f9e4c9452",
   "metadata": {},
   "outputs": [
    {
     "data": {
      "text/plain": [
       "val filter_empty : string list -> string list = <fun>\n"
      ]
     },
     "execution_count": 10,
     "metadata": {},
     "output_type": "execute_result"
    },
    {
     "data": {
      "text/plain": [
       "val existing_paths : string list = [\"/home/juno/.jj/bin/nvw\"]\n"
      ]
     },
     "execution_count": 10,
     "metadata": {},
     "output_type": "execute_result"
    }
   ],
   "source": [
    "let rec filter_empty = function\n",
    "  | [] -> []\n",
    "  | h :: t -> if get_exit h then h :: filter_empty t else filter_empty t ;;\n",
    "\n",
    "let existing_paths = filter_empty args ;;"
   ]
  },
  {
   "cell_type": "markdown",
   "id": "7173d9d0-0f02-400b-a286-6db1e9917519",
   "metadata": {},
   "source": [
    "By just looking at it at first I had no idea what it meant. After a step-by-step explanation from a friendly bot, I figured the function works like this:\n",
    "\n",
    "1. If the received list is empty, return an empty list\n",
    "2. If it's not empty, divide it into `h` (head) and `t` (tail)\n",
    "  - `h` is the single first element of the list\n",
    "  - `t` is all other elements\n",
    "3. Apply `get_exit` to `h`\n",
    "4. If `get_exit` returns `true`, prepend `h` to the result of the recursion on `t`\n",
    "5. If `get_exit` returns `false`, recurse on `t` alone, effectively discarding `h`"
   ]
  },
  {
   "cell_type": "markdown",
   "id": "de8a043a-367d-4599-9905-ae092b4c0cfc",
   "metadata": {},
   "source": [
    "Now that a list of valid candidates for absolute paths is available we can assemble a list of such paths."
   ]
  },
  {
   "cell_type": "code",
   "execution_count": 11,
   "id": "823b8d2d-c31d-4397-a476-97b3c641367e",
   "metadata": {},
   "outputs": [
    {
     "data": {
      "text/plain": [
       "val which : string -> string = <fun>\n"
      ]
     },
     "execution_count": 11,
     "metadata": {},
     "output_type": "execute_result"
    }
   ],
   "source": [
    "let which s = run (\"which \" ^ s)"
   ]
  },
  {
   "cell_type": "markdown",
   "id": "bfe8b543-a35a-4b68-9e99-91a032e6e62a",
   "metadata": {},
   "source": [
    "This `which` function takes a string and returns the full path from the output of `which` on `s`."
   ]
  },
  {
   "cell_type": "markdown",
   "id": "cbeead06-68aa-4bd1-b886-ffea2eb7d1ea",
   "metadata": {},
   "source": [
    "With this function, we can use `List.map` to produce a list of paths:"
   ]
  },
  {
   "cell_type": "code",
   "execution_count": 12,
   "id": "b7e14c7e-1ac7-40a0-bb5e-4729933993a8",
   "metadata": {},
   "outputs": [
    {
     "data": {
      "text/plain": [
       "val paths : string list = [\"/home/juno/.jj/bin/nvw\"]\n"
      ]
     },
     "execution_count": 12,
     "metadata": {},
     "output_type": "execute_result"
    }
   ],
   "source": [
    "let paths = List.map which existing_paths ;;"
   ]
  },
  {
   "cell_type": "markdown",
   "id": "3204a044-6813-456d-84da-a4b8452b888e",
   "metadata": {},
   "source": [
    "As intended, the mocked `/x/y/z` path didn't make it into this list."
   ]
  },
  {
   "cell_type": "markdown",
   "id": "4d41d4a7-b32b-4507-8caa-32031193ebe8",
   "metadata": {},
   "source": [
    "With this list of absolute, valid paths, we can also create a single space-separated string to pass to the editor."
   ]
  },
  {
   "cell_type": "code",
   "execution_count": 13,
   "id": "83ca3dfe-8840-4cd0-8730-e29a82edb678",
   "metadata": {},
   "outputs": [
    {
     "data": {
      "text/plain": [
       "val arg_paths : string = \"/home/juno/.jj/bin/nvw\"\n"
      ]
     },
     "execution_count": 13,
     "metadata": {},
     "output_type": "execute_result"
    }
   ],
   "source": [
    "let arg_paths = String.concat \" \" paths ;;"
   ]
  },
  {
   "cell_type": "markdown",
   "id": "cc6611f1-32e8-446c-9715-73bf0760cf6b",
   "metadata": {},
   "source": [
    "Note that this assumes the paths don't contain spaces. If this assumption can't be made, they should be wrapped in quotes."
   ]
  },
  {
   "cell_type": "markdown",
   "id": "994e26eb-26c3-4ba5-b621-f4418bd31b89",
   "metadata": {},
   "source": [
    "## Hashing and editing"
   ]
  },
  {
   "cell_type": "markdown",
   "id": "1b84267a-db22-4db4-9b68-8c40dfab35bd",
   "metadata": {},
   "source": [
    "Next, we need functions to produce hashes for the files before and after the editor is called, to know if there have been any changes."
   ]
  },
  {
   "cell_type": "markdown",
   "id": "76fefd97-ceea-4757-87d3-34d89693993b",
   "metadata": {},
   "source": [
    "`hash_cmd` returns a string containing a sha256sum invocation using argument `f` as the filename and piping to `cut` in order to store the hash only."
   ]
  },
  {
   "cell_type": "code",
   "execution_count": 14,
   "id": "a22bff19-fd7c-4b4c-9f72-1187cde7e0f4",
   "metadata": {},
   "outputs": [
    {
     "data": {
      "text/plain": [
       "val hash_cmd : string -> string = <fun>\n"
      ]
     },
     "execution_count": 14,
     "metadata": {},
     "output_type": "execute_result"
    }
   ],
   "source": [
    "let hash_cmd f = \"sha256sum \" ^ f ^ \" | cut -d ' ' -f 1\""
   ]
  },
  {
   "cell_type": "markdown",
   "id": "d643fad0-a9d4-4180-b561-fe1daee1c020",
   "metadata": {},
   "source": [
    "Probably a better idea to use OCaml itself for what `cut` is being used here."
   ]
  },
  {
   "cell_type": "markdown",
   "id": "88cdcc6b-28d3-4d86-b268-2a8b0adeb386",
   "metadata": {},
   "source": [
    "Now the returned hash from each execution of `hash_cmd` can be stored with the absolute path as the key. This is what `table_add` does:"
   ]
  },
  {
   "cell_type": "code",
   "execution_count": 15,
   "id": "596c400f-53f3-4782-b20d-2debf7f2d4f3",
   "metadata": {},
   "outputs": [
    {
     "data": {
      "text/plain": [
       "val table_add : (string, string) Hashtbl.t -> string -> unit = <fun>\n"
      ]
     },
     "execution_count": 15,
     "metadata": {},
     "output_type": "execute_result"
    }
   ],
   "source": [
    "let table_add t k = Hashtbl.add t k (run (hash_cmd k)) ;;"
   ]
  },
  {
   "cell_type": "markdown",
   "id": "f08ea102-1b01-4b2c-b147-599e19d12a5f",
   "metadata": {},
   "source": [
    "`table_add` takes arguments `t` (table) and `k` (key).\n",
    "\n",
    "It then calls `Hashtbl.add` on the table with `k` as the key and the output of `run (hash_cmd k)` as the value. Since `run` was already defined to return the output of a command, the output from `sha256sum` gets stored in the hashmap as the value for a key matching the absolute filepath."
   ]
  },
  {
   "cell_type": "markdown",
   "id": "e1868c64-d055-4e45-b994-eba17713dc91",
   "metadata": {},
   "source": [
    "Now a table can be created using the length of the `paths` list."
   ]
  },
  {
   "cell_type": "code",
   "execution_count": 16,
   "id": "56aa45a2-d2b9-4730-898e-1cf1260afe52",
   "metadata": {},
   "outputs": [
    {
     "data": {
      "text/plain": [
       "val table : ('_weak1, '_weak2) Hashtbl.t = <abstr>\n"
      ]
     },
     "execution_count": 16,
     "metadata": {},
     "output_type": "execute_result"
    },
    {
     "data": {
      "text/plain": [
       "- : unit list = [()]\n"
      ]
     },
     "execution_count": 16,
     "metadata": {},
     "output_type": "execute_result"
    }
   ],
   "source": [
    "let table = Hashtbl.create (List.length paths) ;;\n",
    "List.map (table_add table) paths ;;"
   ]
  },
  {
   "cell_type": "markdown",
   "id": "3366dfd5-1871-4a8e-9b6a-b811104886a3",
   "metadata": {},
   "source": [
    "By using `List.map (table_add table) paths`, each path is passed as `table_add`'s `k` argument, which produces the hash from running the assembled `hash_cmd` and stores it as the corrresponding value."
   ]
  },
  {
   "cell_type": "markdown",
   "id": "a2e1cba5-571a-42c0-b315-212a021bbd71",
   "metadata": {},
   "source": [
    "For debugging purposes, I initially had this moment freeze before launching an editor, to check for potential errors. I ended up commenting it out later, and in the end removing it entirely."
   ]
  },
  {
   "cell_type": "code",
   "execution_count": 17,
   "id": "39e797d2-d23c-4869-a869-371f86551d08",
   "metadata": {},
   "outputs": [],
   "source": [
    "(* confirm () ;; *)"
   ]
  },
  {
   "cell_type": "markdown",
   "id": "cf924bfa-5fc7-4468-90f4-f6972b0bc4ed",
   "metadata": {},
   "source": [
    "```ocaml\n",
    "let config_path = \"/home/user/.config/nvim/commit.lua\"\n",
    "let cmd = \"nvim -u \" ^ config_path ^ \" -p \" ^ arg_paths ;;\n",
    "let editor_exit = command cmd ;;\n",
    "```"
   ]
  },
  {
   "cell_type": "markdown",
   "id": "83636384-e6b7-4352-bbb8-7f9e1f6e3d90",
   "metadata": {},
   "source": [
    "Calling the editor would heavily depend on the user and their environment. Above is an example similar to what I used, with a custom configuration file and a `-p` flag for opening each file as a tab."
   ]
  },
  {
   "attachments": {},
   "cell_type": "markdown",
   "id": "66fa77cf-2a13-457b-9a9e-a36109147646",
   "metadata": {},
   "source": [
    "The most important thing is passing `arg_paths` to the editor so the target files can be edited. So the three lines above could also be simply:\n",
    "\n",
    "```ocaml\n",
    "command (\"nvim \" ^ arg_paths) ;;\n",
    "```"
   ]
  },
  {
   "cell_type": "markdown",
   "id": "a3bd169a-fdbb-4987-a10e-a229ca24d282",
   "metadata": {},
   "source": [
    "After the editor exits, the hashes need to be recalculated and stored in a different table:"
   ]
  },
  {
   "cell_type": "code",
   "execution_count": 18,
   "id": "11ba3ca3-f6a2-4920-9fca-66a6512e9487",
   "metadata": {},
   "outputs": [
    {
     "data": {
      "text/plain": [
       "val post_table : ('_weak3, '_weak4) Hashtbl.t = <abstr>\n"
      ]
     },
     "execution_count": 18,
     "metadata": {},
     "output_type": "execute_result"
    },
    {
     "data": {
      "text/plain": [
       "- : unit list = [()]\n"
      ]
     },
     "execution_count": 18,
     "metadata": {},
     "output_type": "execute_result"
    }
   ],
   "source": [
    "let post_table = Hashtbl.create (List.length paths) ;;\n",
    "List.map (table_add post_table) paths ;;"
   ]
  },
  {
   "cell_type": "markdown",
   "id": "4abf872e-53e2-46aa-b7a5-b67c084d8b40",
   "metadata": {},
   "source": [
    "Here I reuse the functions initially used for populating the first table. They weren't as reusable before I had to replicate the same logic for the second table and realize I could repeat myself less."
   ]
  },
  {
   "cell_type": "markdown",
   "id": "4a92bbe9-032d-48b3-ace2-4aeb2dc2d38a",
   "metadata": {},
   "source": [
    "## Committing"
   ]
  },
  {
   "cell_type": "markdown",
   "id": "0cda710f-daa0-4428-922b-a8e058308bc9",
   "metadata": {},
   "source": [
    "With files changed and pre and post-editing hashes available through their absolute paths, now we must assemble the appropriate git commands to add and commit the changes _in case_ the hashes differ."
   ]
  },
  {
   "cell_type": "markdown",
   "id": "3fd03d59-81b1-4c6b-8e1b-5dbef6e4b0af",
   "metadata": {},
   "source": [
    "Since file and Git root paths will be needed by Git, the following utility functions were written to supply those:"
   ]
  },
  {
   "cell_type": "code",
   "execution_count": 19,
   "id": "7d8445e3-f1b1-47c9-be45-56b029b37536",
   "metadata": {},
   "outputs": [
    {
     "data": {
      "text/plain": [
       "val get_dir : string -> string = <fun>\n"
      ]
     },
     "execution_count": 19,
     "metadata": {},
     "output_type": "execute_result"
    },
    {
     "data": {
      "text/plain": [
       "val get_root : string -> string = <fun>\n"
      ]
     },
     "execution_count": 19,
     "metadata": {},
     "output_type": "execute_result"
    }
   ],
   "source": [
    "let get_dir f = run (\"dirname \" ^ f) ;;\n",
    "let get_root f = run (\"git rev-parse --show-toplevel \" ^ get_dir f) ;;"
   ]
  },
  {
   "cell_type": "markdown",
   "id": "f101f1e5-0ece-431b-9bbc-e2afb9f9099d",
   "metadata": {},
   "source": [
    "These `get_*` functions will take a given absolute path to a file and return its containing directory or the root of its Git repo."
   ]
  },
  {
   "cell_type": "markdown",
   "id": "2609bec6-3b4d-41d8-bf37-a47704f88ab0",
   "metadata": {},
   "source": [
    "The `git_*` commands then use these functions to assemble  full `git` commands with arguments that allow calling `nvw` from any directory and still affect only the repository where each file belongs."
   ]
  },
  {
   "cell_type": "code",
   "execution_count": 20,
   "id": "febfefb4-0eaf-4834-ab17-7985685ef412",
   "metadata": {},
   "outputs": [
    {
     "data": {
      "text/plain": [
       "val git_pre : string -> string = <fun>\n"
      ]
     },
     "execution_count": 20,
     "metadata": {},
     "output_type": "execute_result"
    },
    {
     "data": {
      "text/plain": [
       "val git_add : string -> string = <fun>\n"
      ]
     },
     "execution_count": 20,
     "metadata": {},
     "output_type": "execute_result"
    },
    {
     "data": {
      "text/plain": [
       "val git_commit : string -> string = <fun>\n"
      ]
     },
     "execution_count": 20,
     "metadata": {},
     "output_type": "execute_result"
    }
   ],
   "source": [
    "let git_pre f = \"git -C \" ^ (get_dir f) ;;\n",
    "let git_add f = (git_pre f) ^ \" add \" ^ f ;;\n",
    "let git_commit f = \"lazygit -p \" ^ (get_root f) ;;"
   ]
  },
  {
   "cell_type": "markdown",
   "id": "7d3ecbad-d7a0-4cbb-b425-628c10a3f2cf",
   "metadata": {},
   "source": [
    "I prefer [`lazygit`](https://github.com/jesseduffield/lazygit) here because a lot more information becomes available and several operations are possible before exiting, as opposed to locking oneself into the editor with just commit and abort possible."
   ]
  },
  {
   "cell_type": "markdown",
   "id": "3942d973-9df0-4dce-abe6-6c691c211438",
   "metadata": {},
   "source": [
    "Finally, `diff_hashes` will take a single absolute path as argument and look it up on both tables, returning `true` only when they are **different**."
   ]
  },
  {
   "cell_type": "code",
   "execution_count": 21,
   "id": "e8bfa4ee-b3b3-4410-bffd-b02ed53503b5",
   "metadata": {},
   "outputs": [
    {
     "data": {
      "text/plain": [
       "val diff_hashes : string -> bool = <fun>\n"
      ]
     },
     "execution_count": 21,
     "metadata": {},
     "output_type": "execute_result"
    }
   ],
   "source": [
    "let diff_hashes k = (Hashtbl.find table k) <> (Hashtbl.find post_table k) ;;"
   ]
  },
  {
   "cell_type": "markdown",
   "id": "24e52dbd-0f15-4fa8-a061-397b6f539e16",
   "metadata": {},
   "source": [
    "Since `diff_hashes` operates on this single argument, we can wrap another function around it that will execute the assembled git commands only if `diff_hashes` returns true."
   ]
  },
  {
   "cell_type": "code",
   "execution_count": 22,
   "id": "d2d7df59-8b65-4f16-bb46-9b7c37543f69",
   "metadata": {},
   "outputs": [
    {
     "data": {
      "text/plain": [
       "val call_git_if_hashes_diff : string -> unit = <fun>\n"
      ]
     },
     "execution_count": 22,
     "metadata": {},
     "output_type": "execute_result"
    }
   ],
   "source": [
    "let call_git_if_hashes_diff f = begin\n",
    "  if diff_hashes f then begin\n",
    "    ignore (command (git_add f));\n",
    "    ignore (command (git_commit f));\n",
    "  end else\n",
    "    step (\"Skipped: \" ^ f ^ \" matched hashes\") ;\n",
    "end ;;"
   ]
  },
  {
   "cell_type": "markdown",
   "id": "b23c2f07-3201-4e82-b5e3-989efe0ae0e7",
   "metadata": {},
   "source": [
    "The `ignore` function is used here to discard the return values. It is not needed, but gets rid of compiler warnings regarding the unexpected return of the command's exit code."
   ]
  },
  {
   "cell_type": "markdown",
   "id": "c1d4ff59-ff47-49aa-9912-af92ba660310",
   "metadata": {},
   "source": [
    "Now, using `List.map` we can apply `call_git_if_hashes_diff` to every path. This in turn will call `diff_hashes` and compare the hashes present on both pre and post-edit tables."
   ]
  },
  {
   "cell_type": "markdown",
   "id": "b45810d6-30ca-4d7b-9e37-23efe7598f6c",
   "metadata": {},
   "source": [
    "If the hashes differ, it will call `git_add` and `git_commit` for each file."
   ]
  },
  {
   "cell_type": "code",
   "execution_count": 23,
   "id": "4c3f8104-b168-4723-8b74-76fc358baddf",
   "metadata": {},
   "outputs": [
    {
     "name": "stdout",
     "output_type": "stream",
     "text": [
      "| Skipped: /home/juno/.jj/bin/nvw matched hashes\n"
     ]
    },
    {
     "data": {
      "text/plain": [
       "- : unit list = [()]\n"
      ]
     },
     "execution_count": 23,
     "metadata": {},
     "output_type": "execute_result"
    }
   ],
   "source": [
    "List.map call_git_if_hashes_diff paths ;;"
   ]
  },
  {
   "cell_type": "raw",
   "id": "ca02cc5c-b2ae-4135-9c67-b31bae23c1ea",
   "metadata": {},
   "source": [
    "Since in this notebook the editor is never really called, the output states that the hashes have matched."
   ]
  },
  {
   "cell_type": "markdown",
   "id": "66e54f44-ec10-4c29-af26-0c7bece5043c",
   "metadata": {},
   "source": [
    "## References"
   ]
  },
  {
   "cell_type": "markdown",
   "id": "f1d59a6d-3795-44ff-8cf3-e22e1ef9ed53",
   "metadata": {},
   "source": [
    "- [OCaml library : Sys](https://v2.ocaml.org/api/Sys.html#top)\n",
    "- [OCaml library : Unix](https://v2.ocaml.org/api/Unix.html)\n",
    "- [OCaml library : List](https://v2.ocaml.org/api/List.html)\n",
    "- [OCaml library : Map.S](https://v2.ocaml.org/api/Map.S.html)\n",
    "- [OCaml library : String](https://v2.ocaml.org/api/String.html)\n",
    "- [OCaml library : Array](https://v2.ocaml.org/api/Array.html)\n",
    "- [OCaml library : Stdlib](https://v2.ocaml.org/releases/5.1/api/Stdlib.html#EXCEPTIONEnd_of_file)\n",
    "- [OCaml - Labeled arguments](https://v2.ocaml.org/manual/lablexamples.html#sec43)\n",
    "- [Maps and Hash Tables - Real World OCaml](https://dev.realworldocaml.org/maps-and-hashtables.html)\n",
    "- [Mutability and Imperative Control Flow · OCaml Documentation](https://ocaml.org/docs/mutability-imperative-control-flow#imperative-control-flow)\n",
    "- [OCaml - The OCaml language: Control structures](https://v2.ocaml.org/manual/expr.html#ss%3Aexpr-control)\n",
    "- [4.3. Filter - cs3110/textbook: The CS 3110 Textbook](https://github.com/cs3110/textbook)\n"
   ]
  }
 ],
 "metadata": {
  "kernelspec": {
   "display_name": "OCaml default",
   "language": "OCaml",
   "name": "ocaml-jupyter-default"
  },
  "language_info": {
   "codemirror_mode": "text/x-ocaml",
   "file_extension": ".ml",
   "mimetype": "text/x-ocaml",
   "name": "OCaml",
   "nbconverter_exporter": null,
   "pygments_lexer": "OCaml",
   "version": "4.14.0"
  }
 },
 "nbformat": 4,
 "nbformat_minor": 5
}
